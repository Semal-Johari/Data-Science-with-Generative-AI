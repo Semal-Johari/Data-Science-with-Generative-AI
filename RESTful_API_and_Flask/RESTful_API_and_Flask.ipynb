{
  "nbformat": 4,
  "nbformat_minor": 0,
  "metadata": {
    "colab": {
      "provenance": []
    },
    "kernelspec": {
      "name": "python3",
      "display_name": "Python 3"
    },
    "language_info": {
      "name": "python"
    }
  },
  "cells": [
    {
      "cell_type": "markdown",
      "source": [
        "# RESTful API and Flask"
      ],
      "metadata": {
        "id": "EjHbcXHfR2h3"
      }
    },
    {
      "cell_type": "markdown",
      "source": [
        "## Theoretical Questions"
      ],
      "metadata": {
        "id": "ANcgWueFR5xF"
      }
    },
    {
      "cell_type": "markdown",
      "source": [
        "1. What is a RESTful API?\n",
        "\n",
        "  - A RESTful API (Representational State Transfer) is an architectural style for building web services using standard HTTP methods (GET, POST, PUT, DELETE). It is stateless and typically uses JSON for data exchange."
      ],
      "metadata": {
        "id": "ycaJF3GzSDZg"
      }
    },
    {
      "cell_type": "markdown",
      "source": [
        "2. Explain the concept of API specification.\n",
        "\n",
        "  - It's a structured format (like OpenAPI) for describing API endpoints, methods, expected inputs/outputs, and status codes. It improves clarity, testing, and auto-generates documentation."
      ],
      "metadata": {
        "id": "80EvSFHSSDnh"
      }
    },
    {
      "cell_type": "markdown",
      "source": [
        "3. What is Flask, and why is it popular for building APIs?\n",
        "\n",
        "  - Flask is a lightweight, micro web framework for Python. It’s popular for:\n",
        "\n",
        "      - Simplicity and flexibility\n",
        "\n",
        "      - Easy integration with extensions (like Flask-SQLAlchemy)\n",
        "\n",
        "      - Rapid API prototyping"
      ],
      "metadata": {
        "id": "DhAnf0NQSDty"
      }
    },
    {
      "cell_type": "markdown",
      "source": [
        "4. What is routing in Flask?\n",
        "\n",
        "  - Routing maps URLs to Python functions (called view functions). It defines what code runs for a specific URL path."
      ],
      "metadata": {
        "id": "gUyUNDW3SDy1"
      }
    },
    {
      "cell_type": "markdown",
      "source": [
        "5. How do you create a simple Flask application?"
      ],
      "metadata": {
        "id": "lawbT4LvSD05"
      }
    },
    {
      "cell_type": "code",
      "source": [
        "from flask import Flask\n",
        "\n",
        "app = Flask(__name__)\n",
        "\n",
        "@app.route('/')\n",
        "def home():\n",
        "    return \"Hello, Flask!\"\n",
        "\n",
        "if __name__ == '__main__':\n",
        "    app.run()"
      ],
      "metadata": {
        "colab": {
          "base_uri": "https://localhost:8080/"
        },
        "id": "lyltXK75Vnbs",
        "outputId": "942849cf-3950-40d3-cba1-75ded5abd41a"
      },
      "execution_count": null,
      "outputs": [
        {
          "metadata": {
            "tags": null
          },
          "name": "stdout",
          "output_type": "stream",
          "text": [
            " * Serving Flask app '__main__'\n",
            " * Debug mode: off\n"
          ]
        },
        {
          "metadata": {
            "tags": null
          },
          "name": "stderr",
          "output_type": "stream",
          "text": [
            "INFO:werkzeug:\u001b[31m\u001b[1mWARNING: This is a development server. Do not use it in a production deployment. Use a production WSGI server instead.\u001b[0m\n",
            " * Running on http://127.0.0.1:5000\n",
            "INFO:werkzeug:\u001b[33mPress CTRL+C to quit\u001b[0m\n"
          ]
        }
      ]
    },
    {
      "cell_type": "markdown",
      "source": [
        "6. What are HTTP methods used in RESTful API?\n",
        "\n",
        "  - GET: Retrieve data\n",
        "\n",
        "  - POST: Create new data\n",
        "\n",
        "  - PUT: Update existing data\n",
        "\n",
        "  - DELETE: Remove data\n",
        "\n",
        "  - PATCH: Partially update data"
      ],
      "metadata": {
        "id": "YfG5vHY6SD4-"
      }
    },
    {
      "cell_type": "markdown",
      "source": [
        "7. What is the purpose of the @app.route() decorator in Flask?\n",
        "\n",
        "  - It binds a function to a URL route. It tells Flask which URL should trigger which function."
      ],
      "metadata": {
        "id": "6s1MvTF9SD7N"
      }
    },
    {
      "cell_type": "markdown",
      "source": [
        "8. What is the difference between GET and POST HTTP methods?\n",
        "\n",
        "  - GET: Requests data without making changes; parameters are passed in the URL.\n",
        "\n",
        "  - POST: Sends data to the server (e.g., form data); parameters are sent in the body."
      ],
      "metadata": {
        "id": "RB3TDSfFSD-U"
      }
    },
    {
      "cell_type": "markdown",
      "source": [
        "9. How do you handle errors in Flask APIs?"
      ],
      "metadata": {
        "id": "Xr06QsMDSEBG"
      }
    },
    {
      "cell_type": "code",
      "source": [
        "@app.errorhandler(404)\n",
        "def not_found(e):\n",
        "    return \"Page not found\", 404"
      ],
      "metadata": {
        "id": "CBOLkC3dXHE7"
      },
      "execution_count": null,
      "outputs": []
    },
    {
      "cell_type": "markdown",
      "source": [
        "10. How do you connect Flask to a SQL database?\n"
      ],
      "metadata": {
        "id": "7TBjDL-uXFWw"
      }
    },
    {
      "cell_type": "code",
      "source": [
        "from flask_sqlalchemy import SQLAlchemy\n",
        "\n",
        "app.config['SQLALCHEMY_DATABASE_URI'] = 'sqlite:///mydb.db'\n",
        "db = SQLAlchemy(app)"
      ],
      "metadata": {
        "id": "OjN48K5SXcjh"
      },
      "execution_count": null,
      "outputs": []
    },
    {
      "cell_type": "markdown",
      "source": [
        "11. What is the role of Flask-SQLAlchemy?\n",
        "\n",
        "  - It integrates SQLAlchemy (ORM) with Flask for database operations using Python classes."
      ],
      "metadata": {
        "id": "rUL4WKxdSEEE"
      }
    },
    {
      "cell_type": "markdown",
      "source": [
        "12.  What are Flask blueprints, and how are they useful?\n",
        "\n",
        "  - Blueprints help organize your app into components (e.g., auth, admin) for modular development."
      ],
      "metadata": {
        "id": "rlfXU75ySEGa"
      }
    },
    {
      "cell_type": "markdown",
      "source": [
        "13. What is the purpose of Flask's request object?\n",
        "\n",
        "  - request holds incoming request data — query params, form data, headers, JSON, etc."
      ],
      "metadata": {
        "id": "SqkwH8oGSEJS"
      }
    },
    {
      "cell_type": "markdown",
      "source": [
        "14.  How do you create a RESTful API endpoint using Flask?"
      ],
      "metadata": {
        "id": "qqm1l7VzSELm"
      }
    },
    {
      "cell_type": "code",
      "source": [
        "from flask import Flask, jsonify\n",
        "\n",
        "app = Flask(__name__)\n",
        "\n",
        "@app.route('/api/data', methods=['GET'])\n",
        "def get_data():\n",
        "    return jsonify({\"message\": \"Hello API!\"})"
      ],
      "metadata": {
        "id": "JijpjL3BX69Z"
      },
      "execution_count": null,
      "outputs": []
    },
    {
      "cell_type": "markdown",
      "source": [
        "15. What is the purpose of Flask's jsonify() function?\n",
        "\n",
        "  - It converts Python dictionaries into a valid JSON response with the correct Content-Type."
      ],
      "metadata": {
        "id": "r1eDpg5eSEPa"
      }
    },
    {
      "cell_type": "markdown",
      "source": [
        "16. Explain Flask’s url_for() function.\n",
        "\n",
        "  - It generates URLs for routes using the function name, useful for links and redirections."
      ],
      "metadata": {
        "id": "OXhUHlUyYKlU"
      }
    },
    {
      "cell_type": "markdown",
      "source": [
        "17. How does Flask handle static files (CSS, JavaScript, etc.)?\n",
        "\n",
        "  - Files placed in a static/ folder can be accessed via /static/<filename>."
      ],
      "metadata": {
        "id": "129I9d4tYSfT"
      }
    },
    {
      "cell_type": "markdown",
      "source": [
        "18. What is an API specification, and how does it help in building a Flask API?\n",
        "\n",
        "  - An API specification defines how your API behaves — endpoints, parameters, request/response formats. It helps with consistency, documentation (e.g., using Swagger/OpenAPI), and collaboration."
      ],
      "metadata": {
        "id": "_sfASF2tYYs8"
      }
    },
    {
      "cell_type": "markdown",
      "source": [
        "19. What are HTTP status codes, and why are they important in a Flask API?\n",
        "\n",
        "  - They indicate the result of a request. Common examples:\n",
        "\n",
        "      - 200 OK: Success\n",
        "\n",
        "      - 201 Created: Resource created\n",
        "\n",
        "      - 400 Bad Request: Invalid input\n",
        "\n",
        "      - 404 Not Found: Resource not found\n",
        "\n",
        "      - 500 Internal Server Error: Server failure"
      ],
      "metadata": {
        "id": "ThydnBuqYgM1"
      }
    },
    {
      "cell_type": "markdown",
      "source": [
        "20. How do you handle POST requests in Flask?"
      ],
      "metadata": {
        "id": "hWQcNareYr9J"
      }
    },
    {
      "cell_type": "code",
      "source": [
        "from flask import Flask, request, render_template\n",
        "\n",
        "app = Flask(__name__)\n",
        "\n",
        "@app.route('/', methods=['GET', 'POST'])\n",
        "def handle_post():\n",
        "    if request.method == 'POST':\n",
        "        name = request.form.get('name')\n",
        "        return f'Hello, {name}!'\n",
        "    return render_template('post_form.html')"
      ],
      "metadata": {
        "id": "89pKzwS5YJk-"
      },
      "execution_count": null,
      "outputs": []
    },
    {
      "cell_type": "markdown",
      "source": [
        "21. How would you secure a Flask API?\n",
        "\n",
        "  - Use HTTPS\n",
        "\n",
        "  - Input validation and sanitization\n",
        "\n",
        "  - Authentication (e.g., JWT tokens)\n",
        "\n",
        "  - Rate limiting\n",
        "\n",
        "  - Avoid exposing sensitive data"
      ],
      "metadata": {
        "id": "3D5vcYryZ5bI"
      }
    },
    {
      "cell_type": "markdown",
      "source": [
        "22. What is the significance of the Flask-RESTful extension?\n",
        "\n",
        "  - It simplifies building REST APIs with class-based views and built-in request parsing."
      ],
      "metadata": {
        "id": "3g4mXZlpZ5he"
      }
    },
    {
      "cell_type": "markdown",
      "source": [
        "23. What is the role of Flask’s session object?\n",
        "\n",
        "  - It stores user-specific data across requests using secure cookies."
      ],
      "metadata": {
        "id": "gcJcELtjZ5pw"
      }
    },
    {
      "cell_type": "markdown",
      "source": [
        "## Practical Questions"
      ],
      "metadata": {
        "id": "KQfDI6EFR8qP"
      }
    },
    {
      "cell_type": "markdown",
      "source": [
        "1.  How do you create a basic Flask application?"
      ],
      "metadata": {
        "id": "aIE5FY9Bav_P"
      }
    },
    {
      "cell_type": "code",
      "execution_count": null,
      "metadata": {
        "id": "Sf8csDF3RwdA"
      },
      "outputs": [],
      "source": [
        "from flask import Flask\n",
        "\n",
        "app = Flask(__name__)\n",
        "\n",
        "@app.route('/')\n",
        "def home():\n",
        "    return 'Hello, Flask!'\n",
        "\n",
        "if __name__ == '__main__':\n",
        "    app.run(debug=True)"
      ]
    },
    {
      "cell_type": "markdown",
      "source": [
        "2. How do you serve static files like images or CSS in Flask?"
      ],
      "metadata": {
        "id": "NrydwC2ya6qT"
      }
    },
    {
      "cell_type": "code",
      "source": [
        "from flask import Flask, render_template\n",
        "\n",
        "app = Flask(__name__)\n",
        "\n",
        "@app.route('/')\n",
        "def index():\n",
        "    return render_template('index.html')"
      ],
      "metadata": {
        "id": "0VSH6D6mYJrO"
      },
      "execution_count": null,
      "outputs": []
    },
    {
      "cell_type": "markdown",
      "source": [
        "3. How do you define different routes with different HTTP methods in Flask?"
      ],
      "metadata": {
        "id": "VKEfGJdda_Ov"
      }
    },
    {
      "cell_type": "code",
      "source": [
        "from flask import Flask, request\n",
        "\n",
        "app = Flask(__name__)\n",
        "\n",
        "@app.route('/submit', methods=['GET', 'POST'])\n",
        "def submit():\n",
        "    if request.method == 'POST':\n",
        "        return 'Data submitted via POST'\n",
        "    return 'Submit form using POST'"
      ],
      "metadata": {
        "id": "MJm4-3pXa_hT"
      },
      "execution_count": null,
      "outputs": []
    },
    {
      "cell_type": "markdown",
      "source": [
        "4.  How do you render HTML templates in Flask?"
      ],
      "metadata": {
        "id": "rBD2CqGGa_wn"
      }
    },
    {
      "cell_type": "code",
      "source": [
        "from flask import Flask, render_template\n",
        "\n",
        "app = Flask(__name__)\n",
        "\n",
        "@app.route('/')\n",
        "def home():\n",
        "    return render_template('hello.html')"
      ],
      "metadata": {
        "id": "Q5rs1Huca_9r"
      },
      "execution_count": null,
      "outputs": []
    },
    {
      "cell_type": "markdown",
      "source": [
        "5.  How can you generate URLs for routes in Flask using url_for?"
      ],
      "metadata": {
        "id": "hDgmj0V2bAU7"
      }
    },
    {
      "cell_type": "code",
      "source": [
        "from flask import Flask, url_for\n",
        "\n",
        "app = Flask(__name__)\n",
        "\n",
        "@app.route('/')\n",
        "def home():\n",
        "    return f\"Go to <a href='{url_for('about')}'>About</a>\"\n",
        "\n",
        "@app.route('/about')\n",
        "def about():\n",
        "    return 'About Page'"
      ],
      "metadata": {
        "id": "HckYaY7HbAl-"
      },
      "execution_count": null,
      "outputs": []
    },
    {
      "cell_type": "markdown",
      "source": [
        "6. How do you handle forms in Flask?"
      ],
      "metadata": {
        "id": "7VIIzkzXbA5g"
      }
    },
    {
      "cell_type": "code",
      "source": [
        "from flask import Flask, request, render_template\n",
        "\n",
        "app = Flask(__name__)\n",
        "\n",
        "@app.route('/', methods=['GET', 'POST'])\n",
        "def form():\n",
        "    if request.method == 'POST':\n",
        "        name = request.form['name']\n",
        "        return f'Hello {name}!'\n",
        "    return render_template('form.html')"
      ],
      "metadata": {
        "id": "hnypU31ybBOk"
      },
      "execution_count": null,
      "outputs": []
    },
    {
      "cell_type": "markdown",
      "source": [
        "7. How can you validate form data in Flask?"
      ],
      "metadata": {
        "id": "41ySwKnKbBiI"
      }
    },
    {
      "cell_type": "code",
      "source": [
        "@app.route('/validate', methods=['POST'])\n",
        "def validate():\n",
        "    name = request.form.get('name', '')\n",
        "    if not name:\n",
        "        return 'Name is required', 400\n",
        "    return f'Valid name: {name}'"
      ],
      "metadata": {
        "id": "NuiVqN57bByS"
      },
      "execution_count": null,
      "outputs": []
    },
    {
      "cell_type": "markdown",
      "source": [
        "8.  How do you manage sessions in Flask?"
      ],
      "metadata": {
        "id": "IhnN1uuibB9r"
      }
    },
    {
      "cell_type": "code",
      "source": [
        "from flask import Flask, session\n",
        "\n",
        "app = Flask(__name__)\n",
        "app.secret_key = 'secret'\n",
        "\n",
        "@app.route('/login')\n",
        "def login():\n",
        "    session['user'] = 'admin'\n",
        "    return 'Logged in'\n",
        "\n",
        "@app.route('/profile')\n",
        "def profile():\n",
        "    user = session.get('user', 'Guest')\n",
        "    return f'Hello {user}'"
      ],
      "metadata": {
        "id": "ZoEcralUbCO7"
      },
      "execution_count": null,
      "outputs": []
    },
    {
      "cell_type": "markdown",
      "source": [
        "9. How do you redirect to a different route in Flask?"
      ],
      "metadata": {
        "id": "GSurp8YobCfV"
      }
    },
    {
      "cell_type": "code",
      "source": [
        "from flask import redirect, url_for\n",
        "\n",
        "@app.route('/start')\n",
        "def start():\n",
        "    return redirect(url_for('end'))\n",
        "\n",
        "@app.route('/end')\n",
        "def end():\n",
        "    return 'Redirected successfully!'"
      ],
      "metadata": {
        "id": "GlCZNIuLbCsW"
      },
      "execution_count": null,
      "outputs": []
    },
    {
      "cell_type": "markdown",
      "source": [
        "10. How do you handle errors in Flask (e.g., 404)?"
      ],
      "metadata": {
        "id": "n2L2Q7_9bC4X"
      }
    },
    {
      "cell_type": "code",
      "source": [
        "@app.errorhandler(404)\n",
        "def page_not_found(e):\n",
        "    return 'Custom 404 Error: Page not found', 404"
      ],
      "metadata": {
        "id": "X7ROn_gQbDEw"
      },
      "execution_count": null,
      "outputs": []
    },
    {
      "cell_type": "markdown",
      "source": [
        "11.  How do you structure a Flask app using Blueprints?"
      ],
      "metadata": {
        "id": "_CwXAgcVbDTi"
      }
    },
    {
      "cell_type": "code",
      "source": [
        "from flask import Flask\n",
        "\n",
        "def create_app():\n",
        "    app = Flask(__name__)\n",
        "    from .auth.routes import auth_bp\n",
        "    app.register_blueprint(auth_bp)\n",
        "    return app"
      ],
      "metadata": {
        "id": "d8R37YUDbDhh"
      },
      "execution_count": null,
      "outputs": []
    },
    {
      "cell_type": "markdown",
      "source": [
        "12.  How do you define a custom Jinja filter in Flask?"
      ],
      "metadata": {
        "id": "Ksmw9WTYbDx4"
      }
    },
    {
      "cell_type": "code",
      "source": [
        "@app.template_filter('reverse')\n",
        "def reverse_filter(s):\n",
        "    return s[::-1]\n",
        "\n",
        "@app.route('/filter')\n",
        "def filter_example():\n",
        "    return render_template('filter.html', text='Flask')"
      ],
      "metadata": {
        "id": "PULdF5NwbD_I"
      },
      "execution_count": null,
      "outputs": []
    },
    {
      "cell_type": "markdown",
      "source": [
        "13. How can you redirect with query parameters in Flask?"
      ],
      "metadata": {
        "id": "ltwTttiCbEK4"
      }
    },
    {
      "cell_type": "code",
      "source": [
        "@app.route('/go')\n",
        "def go():\n",
        "    return redirect(url_for('search', q='flask'))\n",
        "\n",
        "@app.route('/search')\n",
        "def search():\n",
        "    query = request.args.get('q', '')\n",
        "    return f'Searching for: {query}'"
      ],
      "metadata": {
        "id": "DAkmNMv0bEgv"
      },
      "execution_count": null,
      "outputs": []
    },
    {
      "cell_type": "markdown",
      "source": [
        "14. How do you return JSON responses in Flask?"
      ],
      "metadata": {
        "id": "AFV6nSvUcIjE"
      }
    },
    {
      "cell_type": "code",
      "source": [
        "from flask import jsonify\n",
        "\n",
        "@app.route('/api/data')\n",
        "def data():\n",
        "    return jsonify(name='Flask', type='Web Framework')"
      ],
      "metadata": {
        "id": "7k6-79L1cIv1"
      },
      "execution_count": null,
      "outputs": []
    },
    {
      "cell_type": "markdown",
      "source": [
        "15. How do you capture URL parameters in Flask?"
      ],
      "metadata": {
        "id": "6pBts67OcI8l"
      }
    },
    {
      "cell_type": "code",
      "source": [
        "@app.route('/user/<username>')\n",
        "def user_profile(username):\n",
        "    return f'User: {username}'"
      ],
      "metadata": {
        "id": "l5jtoZGbcJJ_"
      },
      "execution_count": null,
      "outputs": []
    }
  ]
}