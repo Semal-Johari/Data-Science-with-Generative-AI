{
  "nbformat": 4,
  "nbformat_minor": 0,
  "metadata": {
    "colab": {
      "provenance": []
    },
    "kernelspec": {
      "name": "python3",
      "display_name": "Python 3"
    },
    "language_info": {
      "name": "python"
    }
  },
  "cells": [
    {
      "cell_type": "markdown",
      "source": [
        "# RESTful API and Flask"
      ],
      "metadata": {
        "id": "EjHbcXHfR2h3"
      }
    },
    {
      "cell_type": "markdown",
      "source": [
        "## Theoretical Questions"
      ],
      "metadata": {
        "id": "ANcgWueFR5xF"
      }
    },
    {
      "cell_type": "markdown",
      "source": [
        "1. What is a RESTful API?\n",
        "\n",
        "  - A RESTful API (Representational State Transfer) is an architectural style for building web services using standard HTTP methods (GET, POST, PUT, DELETE). It is stateless and typically uses JSON for data exchange."
      ],
      "metadata": {
        "id": "ycaJF3GzSDZg"
      }
    },
    {
      "cell_type": "markdown",
      "source": [
        "2. Explain the concept of API specification.\n",
        "\n",
        "  - It's a structured format (like OpenAPI) for describing API endpoints, methods, expected inputs/outputs, and status codes. It improves clarity, testing, and auto-generates documentation."
      ],
      "metadata": {
        "id": "80EvSFHSSDnh"
      }
    },
    {
      "cell_type": "markdown",
      "source": [
        "3. What is Flask, and why is it popular for building APIs?\n",
        "\n",
        "  - Flask is a lightweight, micro web framework for Python. It’s popular for:\n",
        "\n",
        "      - Simplicity and flexibility\n",
        "\n",
        "      - Easy integration with extensions (like Flask-SQLAlchemy)\n",
        "\n",
        "      - Rapid API prototyping"
      ],
      "metadata": {
        "id": "DhAnf0NQSDty"
      }
    },
    {
      "cell_type": "markdown",
      "source": [
        "4. What is routing in Flask?\n",
        "\n",
        "  - Routing maps URLs to Python functions (called view functions). It defines what code runs for a specific URL path."
      ],
      "metadata": {
        "id": "gUyUNDW3SDy1"
      }
    },
    {
      "cell_type": "markdown",
      "source": [
        "5. How do you create a simple Flask application?"
      ],
      "metadata": {
        "id": "lawbT4LvSD05"
      }
    },
    {
      "cell_type": "code",
      "source": [
        "from flask import Flask\n",
        "\n",
        "app = Flask(__name__)\n",
        "\n",
        "@app.route('/')\n",
        "def home():\n",
        "    return \"Hello, Flask!\"\n",
        "\n",
        "if __name__ == '__main__':\n",
        "    app.run()"
      ],
      "metadata": {
        "colab": {
          "base_uri": "https://localhost:8080/"
        },
        "id": "lyltXK75Vnbs",
        "outputId": "942849cf-3950-40d3-cba1-75ded5abd41a"
      },
      "execution_count": null,
      "outputs": [
        {
          "metadata": {
            "tags": null
          },
          "name": "stdout",
          "output_type": "stream",
          "text": [
            " * Serving Flask app '__main__'\n",
            " * Debug mode: off\n"
          ]
        },
        {
          "metadata": {
            "tags": null
          },
          "name": "stderr",
          "output_type": "stream",
          "text": [
            "INFO:werkzeug:\u001b[31m\u001b[1mWARNING: This is a development server. Do not use it in a production deployment. Use a production WSGI server instead.\u001b[0m\n",
            " * Running on http://127.0.0.1:5000\n",
            "INFO:werkzeug:\u001b[33mPress CTRL+C to quit\u001b[0m\n"
          ]
        }
      ]
    },
    {
      "cell_type": "markdown",
      "source": [
        "6. What are HTTP methods used in RESTful API?\n",
        "\n",
        "  - GET: Retrieve data\n",
        "\n",
        "  - POST: Create new data\n",
        "\n",
        "  - PUT: Update existing data\n",
        "\n",
        "  - DELETE: Remove data\n",
        "\n",
        "  - PATCH: Partially update data"
      ],
      "metadata": {
        "id": "YfG5vHY6SD4-"
      }
    },
    {
      "cell_type": "markdown",
      "source": [
        "7. What is the purpose of the @app.route() decorator in Flask?\n",
        "\n",
        "  - It binds a function to a URL route. It tells Flask which URL should trigger which function."
      ],
      "metadata": {
        "id": "6s1MvTF9SD7N"
      }
    },
    {
      "cell_type": "markdown",
      "source": [
        "8. What is the difference between GET and POST HTTP methods?\n",
        "\n",
        "  - GET: Requests data without making changes; parameters are passed in the URL.\n",
        "\n",
        "  - POST: Sends data to the server (e.g., form data); parameters are sent in the body."
      ],
      "metadata": {
        "id": "RB3TDSfFSD-U"
      }
    },
    {
      "cell_type": "markdown",
      "source": [
        "9. How do you handle errors in Flask APIs?\n",
        "\n",
        "  -"
      ],
      "metadata": {
        "id": "Xr06QsMDSEBG"
      }
    },
    {
      "cell_type": "markdown",
      "source": [],
      "metadata": {
        "id": "rUL4WKxdSEEE"
      }
    },
    {
      "cell_type": "markdown",
      "source": [],
      "metadata": {
        "id": "rlfXU75ySEGa"
      }
    },
    {
      "cell_type": "markdown",
      "source": [],
      "metadata": {
        "id": "SqkwH8oGSEJS"
      }
    },
    {
      "cell_type": "markdown",
      "source": [],
      "metadata": {
        "id": "qqm1l7VzSELm"
      }
    },
    {
      "cell_type": "markdown",
      "source": [],
      "metadata": {
        "id": "r1eDpg5eSEPa"
      }
    },
    {
      "cell_type": "markdown",
      "source": [
        "## Practical Questions"
      ],
      "metadata": {
        "id": "KQfDI6EFR8qP"
      }
    },
    {
      "cell_type": "code",
      "execution_count": null,
      "metadata": {
        "id": "Sf8csDF3RwdA"
      },
      "outputs": [],
      "source": []
    }
  ]
}
