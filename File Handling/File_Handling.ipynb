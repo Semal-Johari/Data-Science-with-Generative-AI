{
  "nbformat": 4,
  "nbformat_minor": 0,
  "metadata": {
    "colab": {
      "provenance": []
    },
    "kernelspec": {
      "name": "python3",
      "display_name": "Python 3"
    },
    "language_info": {
      "name": "python"
    }
  },
  "cells": [
    {
      "cell_type": "markdown",
      "source": [
        "# Flie Handling"
      ],
      "metadata": {
        "id": "16-rl999thjf"
      }
    },
    {
      "cell_type": "markdown",
      "source": [
        "## Theoretical Questions"
      ],
      "metadata": {
        "id": "5Tcm_-outiqW"
      }
    },
    {
      "cell_type": "markdown",
      "source": [
        "1. What is the difference between interpreted and compiled languages?\n",
        "\n",
        "  - Interpreted language (like Python): Code is executed line-by-line by an interpreter at runtime.\n",
        "\n",
        "  - Compiled language (like C++): Code is translated into machine code before execution by a compiler.\n",
        "\n",
        "  - Key Difference: Interpreted code runs slower but allows quick testing and debugging; compiled code runs faster but requires a build step."
      ],
      "metadata": {
        "id": "9D54VZXvtis_"
      }
    },
    {
      "cell_type": "markdown",
      "source": [
        "2. What is exception handling in Python?\n",
        "\n",
        "  - Exception handling is a mechanism to catch and manage runtime errors using try, except, else, and finally blocks, preventing the program from crashing unexpectedly."
      ],
      "metadata": {
        "id": "gs3s3526tiwX"
      }
    },
    {
      "cell_type": "markdown",
      "source": [
        "3. What is the purpose of the finally block in exception handling?\n",
        "\n",
        "  - The finally block executes no matter what—whether an exception occurs or not. It's typically used for cleanup (e.g., closing files or releasing resources)."
      ],
      "metadata": {
        "id": "hdytRywrtizo"
      }
    },
    {
      "cell_type": "markdown",
      "source": [
        "4. What is logging in Python?\n",
        "\n",
        "  - Logging is the process of recording events that happen during program execution. Python’s logging module helps track errors, warnings, info, and debugging messages for monitoring and troubleshooting."
      ],
      "metadata": {
        "id": "TrwBgVLgti2E"
      }
    },
    {
      "cell_type": "markdown",
      "source": [
        "5. What is the significance of the __del__ method in Python?\n",
        "\n",
        "  - The __del__ method is a destructor that is called when an object is about to be destroyed (garbage collected). It can be used to free resources, but should be used sparingly."
      ],
      "metadata": {
        "id": "PvROflcLti4g"
      }
    },
    {
      "cell_type": "markdown",
      "source": [
        "6. What is the difference between import and from ... import in Python?\n",
        "\n",
        "  - import module: Imports the whole module (e.g., import math).\n",
        "\n",
        "  - from module import name: Imports specific functions/classes (e.g., from math import sqrt)."
      ],
      "metadata": {
        "id": "VbGtj028ti7D"
      }
    },
    {
      "cell_type": "markdown",
      "source": [
        "7.  How can you handle multiple exceptions in Python?\n",
        "\n",
        "  - Use a tuple in the except block:"
      ],
      "metadata": {
        "id": "me90SbpTti9n"
      }
    },
    {
      "cell_type": "code",
      "source": [
        "try:\n",
        "    print(\"Hello World!\")\n",
        "except (ValueError, TypeError) as e:\n",
        "    print(e)"
      ],
      "metadata": {
        "colab": {
          "base_uri": "https://localhost:8080/"
        },
        "id": "Upyem7tOvDZP",
        "outputId": "9fd6f9a5-5a1d-4f23-c1b2-8a93be37b54e"
      },
      "execution_count": 2,
      "outputs": [
        {
          "output_type": "stream",
          "name": "stdout",
          "text": [
            "Hello World!\n"
          ]
        }
      ]
    },
    {
      "cell_type": "markdown",
      "source": [
        "8. What is the purpose of the with statement when handling files in Python?\n",
        "\n",
        "  - The with statement ensures files are properly closed after being opened, even if an exception occurs."
      ],
      "metadata": {
        "id": "5MKc6P11tjAZ"
      }
    },
    {
      "cell_type": "markdown",
      "source": [
        "9. What is the difference between multithreading and multiprocessing?\n",
        "\n",
        "  - Multithreading: Multiple threads within a single process share memory space. Useful for I/O-bound tasks.\n",
        "\n",
        "  - Multiprocessing: Multiple processes with separate memory space. Ideal for CPU-bound tasks."
      ],
      "metadata": {
        "id": "X2_n7ZdttjC0"
      }
    },
    {
      "cell_type": "markdown",
      "source": [
        "10. What are the advantages of using logging in a program?\n",
        "\n",
        "  - Tracks application flow.\n",
        "\n",
        "  - Helps diagnose issues.\n",
        "\n",
        "  - Useful in production environments without halting execution."
      ],
      "metadata": {
        "id": "LyRbJt3jtjFl"
      }
    },
    {
      "cell_type": "markdown",
      "source": [
        "11. What is memory management in Python?\n",
        "\n",
        "  - Python uses automatic memory management with:\n",
        "\n",
        "      - Reference counting\n",
        "\n",
        "      - Garbage collection for cyclic references\n",
        "\n",
        "      - Private heap for storing objects"
      ],
      "metadata": {
        "id": "5tGRYaf2tjII"
      }
    },
    {
      "cell_type": "markdown",
      "source": [
        "12. What are the basic steps involved in exception handling in Python?\n",
        "\n",
        "  - Use try to wrap risky code.\n",
        "\n",
        "  - Use except to catch exceptions.\n",
        "\n",
        "  - Optionally use else for code that runs if no exception occurs.\n",
        "\n",
        "  - Use finally for cleanup actions."
      ],
      "metadata": {
        "id": "-gD8FfW7tjK9"
      }
    },
    {
      "cell_type": "markdown",
      "source": [
        "13. Why is memory management important in Python?\n",
        "\n",
        "  - It prevents memory leaks and ensures efficient use of system resources. Good memory management allows programs to scale and run reliably."
      ],
      "metadata": {
        "id": "trH2PCq2tjNe"
      }
    },
    {
      "cell_type": "markdown",
      "source": [
        "14. What is the role of try and except in exception handling?\n",
        "\n",
        "  - try contains code that might raise an exception, and except defines how to handle those exceptions if they occur."
      ],
      "metadata": {
        "id": "tZViBws9tjQL"
      }
    },
    {
      "cell_type": "markdown",
      "source": [
        "15.  How does Python's garbage collection system work?\n",
        "\n",
        "  - It uses reference counting to destroy objects with zero references.\n",
        "\n",
        "  - It uses the gc module to detect and clean cyclic references."
      ],
      "metadata": {
        "id": "bJlQuZVutjS5"
      }
    },
    {
      "cell_type": "markdown",
      "source": [
        "16. What is the purpose of the else block in exception handling?\n",
        "\n",
        "  - The else block executes only if no exception was raised in the try block. It's useful for code that should only run when everything goes well."
      ],
      "metadata": {
        "id": "xW-L32MStjVd"
      }
    },
    {
      "cell_type": "markdown",
      "source": [
        "17. What are the common logging levels in Python?\n",
        "\n",
        "  - DEBUG\n",
        "\n",
        "  - INFO\n",
        "\n",
        "  - WARNING\n",
        "\n",
        "  - ERROR\n",
        "\n",
        "  - CRITICAL"
      ],
      "metadata": {
        "id": "GKtAbApUtjXv"
      }
    },
    {
      "cell_type": "markdown",
      "source": [
        "18. What is the difference between os.fork() and multiprocessing in Python?\n",
        "\n",
        "  - os.fork(): Unix-only, manually creates a child process (low-level).\n",
        "\n",
        "  - multiprocessing: Cross-platform module that simplifies process management."
      ],
      "metadata": {
        "id": "0aYlugmWR5IU"
      }
    },
    {
      "cell_type": "markdown",
      "source": [
        "19. What is the importance of closing a file in Python?\n",
        "\n",
        "  - Frees system resources.\n",
        "\n",
        "  - Ensures data is flushed from buffers to disk.\n",
        "\n",
        "  - Prevents data corruption."
      ],
      "metadata": {
        "id": "kECrWeJmR5PJ"
      }
    },
    {
      "cell_type": "markdown",
      "source": [
        "20. What is the difference between file.read() and file.readline() in Python?\n",
        "\n",
        "  - read(): Reads the entire file as a string.\n",
        "\n",
        "  - readline(): Reads one line at a time."
      ],
      "metadata": {
        "id": "Y0f_ZewMR5Xr"
      }
    },
    {
      "cell_type": "markdown",
      "source": [
        "21. What is the logging module in Python used for?\n",
        "\n",
        "  - It is used to track events during program execution, especially useful for debugging and monitoring."
      ],
      "metadata": {
        "id": "kJ667eGyR5i3"
      }
    },
    {
      "cell_type": "markdown",
      "source": [
        "22.  What is the os module in Python used for in file handling?\n",
        "\n",
        "  - The os module provides functions to:\n",
        "\n",
        "      - Navigate the file system (os.path)\n",
        "\n",
        "      - Create/delete files and directories\n",
        "\n",
        "      - Work with environment variables"
      ],
      "metadata": {
        "id": "El7ax6QPR5tS"
      }
    },
    {
      "cell_type": "markdown",
      "source": [
        "23. What are the challenges associated with memory management in Python?\n",
        "\n",
        "  - Cyclic references not handled by reference counting.\n",
        "\n",
        "  - Memory leaks via global variables or closures.\n",
        "\n",
        "  - Heavy object creation in performance-sensitive applications."
      ],
      "metadata": {
        "id": "175iA-crR53L"
      }
    },
    {
      "cell_type": "markdown",
      "source": [
        "24. How do you raise an exception manually in Python?\n",
        "\n",
        "  - An exception is raised manually using the raise keyword."
      ],
      "metadata": {
        "id": "rkqIwHYuR6AC"
      }
    },
    {
      "cell_type": "markdown",
      "source": [
        "25. Why is it important to use multithreading in certain applications?\n",
        "\n",
        "  - Multithreading is useful for:\n",
        "\n",
        "      - I/O-bound tasks (network requests, file I/O)\n",
        "\n",
        "      - Responsiveness in GUI applications\n",
        "\n",
        "      - Concurrent operations without the overhead of multiple processes"
      ],
      "metadata": {
        "id": "J31LbVugR6Ku"
      }
    },
    {
      "cell_type": "markdown",
      "source": [
        "## Practical Questions"
      ],
      "metadata": {
        "id": "xaytpfsfR6UG"
      }
    },
    {
      "cell_type": "markdown",
      "source": [
        "1. How can you open a file for writing in Python and write a string to it?"
      ],
      "metadata": {
        "id": "pedfN7ahR6pM"
      }
    },
    {
      "cell_type": "code",
      "execution_count": 1,
      "metadata": {
        "id": "lt0oC-MysxNp"
      },
      "outputs": [],
      "source": [
        "with open(\"output.txt\", \"w\") as file:\n",
        "    file.write(\"Hello, world!\")"
      ]
    },
    {
      "cell_type": "markdown",
      "source": [
        "2.  Write a Python program to read the contents of a file and print each line."
      ],
      "metadata": {
        "id": "yze3zaTHTUN3"
      }
    },
    {
      "cell_type": "code",
      "source": [
        "with open(\"output.txt\", \"r\") as file:\n",
        "    for line in file:\n",
        "        print(line.strip())"
      ],
      "metadata": {
        "colab": {
          "base_uri": "https://localhost:8080/"
        },
        "id": "eotmz9HLTSCB",
        "outputId": "de84a86c-25b2-4c2c-cfca-a974b1ba0155"
      },
      "execution_count": 2,
      "outputs": [
        {
          "output_type": "stream",
          "name": "stdout",
          "text": [
            "Hello, world!\n"
          ]
        }
      ]
    },
    {
      "cell_type": "markdown",
      "source": [
        "3. How would you handle a case where the file doesn't exist while trying to open it for reading?"
      ],
      "metadata": {
        "id": "R4HMs2cSTSS8"
      }
    },
    {
      "cell_type": "code",
      "source": [
        "try:\n",
        "    with open(\"nonexistent.txt\", \"r\") as file:\n",
        "        print(file.read())\n",
        "except FileNotFoundError:\n",
        "    print(\"File not found.\")"
      ],
      "metadata": {
        "colab": {
          "base_uri": "https://localhost:8080/"
        },
        "id": "yJPW3ujTTSp2",
        "outputId": "02648402-4394-48f2-8fc4-464be6120752"
      },
      "execution_count": 3,
      "outputs": [
        {
          "output_type": "stream",
          "name": "stdout",
          "text": [
            "File not found.\n"
          ]
        }
      ]
    },
    {
      "cell_type": "markdown",
      "source": [
        "4. Write a Python script that reads from one file and writes its content to another file."
      ],
      "metadata": {
        "id": "yKUOmb8vTS7l"
      }
    },
    {
      "cell_type": "code",
      "source": [
        "with open(\"source.txt\", \"r\") as src, open(\"destination.txt\", \"w\") as dest:\n",
        "    for line in src:\n",
        "        dest.write(line)"
      ],
      "metadata": {
        "id": "32e5Tr3sTTRs"
      },
      "execution_count": null,
      "outputs": []
    },
    {
      "cell_type": "markdown",
      "source": [
        "5. How would you catch and handle division by zero error in Python?"
      ],
      "metadata": {
        "id": "dIlV7N-ATTjb"
      }
    },
    {
      "cell_type": "code",
      "source": [
        "try:\n",
        "    result = 10 / 0\n",
        "except ZeroDivisionError:\n",
        "    print(\"Cannot divide by zero.\")"
      ],
      "metadata": {
        "colab": {
          "base_uri": "https://localhost:8080/"
        },
        "id": "4__bmET_Ta82",
        "outputId": "73f9dbd5-326e-441f-80d8-f1432a860645"
      },
      "execution_count": 4,
      "outputs": [
        {
          "output_type": "stream",
          "name": "stdout",
          "text": [
            "Cannot divide by zero.\n"
          ]
        }
      ]
    },
    {
      "cell_type": "markdown",
      "source": [
        "6. Write a Python program that logs an error message to a log file when a division by zero exception occurs."
      ],
      "metadata": {
        "id": "jVlsEKxRTZgp"
      }
    },
    {
      "cell_type": "code",
      "source": [
        "import logging\n",
        "\n",
        "logging.basicConfig(filename='error.log', level=logging.ERROR)\n",
        "\n",
        "try:\n",
        "    result = 10 / 0\n",
        "except ZeroDivisionError as e:\n",
        "    logging.error(\"Division by zero occurred: %s\", e)"
      ],
      "metadata": {
        "colab": {
          "base_uri": "https://localhost:8080/"
        },
        "id": "FS6a0_MjTbmP",
        "outputId": "278a8eff-25fd-41c0-c7b7-c0154250e4bd"
      },
      "execution_count": 6,
      "outputs": [
        {
          "output_type": "stream",
          "name": "stderr",
          "text": [
            "ERROR:root:Division by zero occurred: division by zero\n"
          ]
        }
      ]
    },
    {
      "cell_type": "markdown",
      "source": [
        "7. How do you log information at different levels (INFO, ERROR, WARNING) in Python using the logging module?"
      ],
      "metadata": {
        "id": "d0QGl3R7TXwZ"
      }
    },
    {
      "cell_type": "code",
      "source": [
        "import logging\n",
        "\n",
        "logging.basicConfig(level=logging.DEBUG)\n",
        "\n",
        "logging.info(\"This is an info message.\")\n",
        "logging.warning(\"This is a warning.\")\n",
        "logging.error(\"This is an error.\")"
      ],
      "metadata": {
        "colab": {
          "base_uri": "https://localhost:8080/"
        },
        "id": "4MTk1C2fTYPq",
        "outputId": "c30e53e8-a5db-4f4c-e7db-0c0d1b568b3d"
      },
      "execution_count": 7,
      "outputs": [
        {
          "output_type": "stream",
          "name": "stderr",
          "text": [
            "WARNING:root:This is a warning.\n",
            "ERROR:root:This is an error.\n"
          ]
        }
      ]
    },
    {
      "cell_type": "markdown",
      "source": [
        "8. Write a program to handle a file opening error using exception handling."
      ],
      "metadata": {
        "id": "ipsi04JrTYke"
      }
    },
    {
      "cell_type": "code",
      "source": [
        "try:\n",
        "    with open(\"badfile.txt\", \"r\") as file:\n",
        "        content = file.read()\n",
        "except IOError:\n",
        "    print(\"An error occurred while opening the file.\")"
      ],
      "metadata": {
        "colab": {
          "base_uri": "https://localhost:8080/"
        },
        "id": "8gJvtAJNTi_q",
        "outputId": "ecd9d911-491f-4357-ee0f-43d0e1db9344"
      },
      "execution_count": 8,
      "outputs": [
        {
          "output_type": "stream",
          "name": "stdout",
          "text": [
            "An error occurred while opening the file.\n"
          ]
        }
      ]
    },
    {
      "cell_type": "markdown",
      "source": [
        "9.  How can you read a file line by line and store its content in a list in Python?"
      ],
      "metadata": {
        "id": "tuRLRzBMTfKG"
      }
    },
    {
      "cell_type": "code",
      "source": [
        "with open(\"output.txt\", \"r\") as file:\n",
        "    lines = [line.strip() for line in file]\n",
        "print(lines)"
      ],
      "metadata": {
        "colab": {
          "base_uri": "https://localhost:8080/"
        },
        "id": "YI6M7FRJTffX",
        "outputId": "02c71c18-c1c8-4e66-ac88-cf16f0898de6"
      },
      "execution_count": 9,
      "outputs": [
        {
          "output_type": "stream",
          "name": "stdout",
          "text": [
            "['Hello, world!']\n"
          ]
        }
      ]
    },
    {
      "cell_type": "markdown",
      "source": [
        "10.  How can you append data to an existing file in Python?"
      ],
      "metadata": {
        "id": "NVqiHP_0TgkR"
      }
    },
    {
      "cell_type": "code",
      "source": [
        "with open(\"output.txt\", \"a\") as file:\n",
        "    file.write(\"\\nAppended line.\")"
      ],
      "metadata": {
        "id": "xXNPUyDdTfjn"
      },
      "execution_count": 10,
      "outputs": []
    },
    {
      "cell_type": "markdown",
      "source": [
        "11.  Write a Python program that uses a try-except block to handle an error when attempting to access a\n",
        "dictionary key that doesn't exist."
      ],
      "metadata": {
        "id": "YYxaA9ToTfti"
      }
    },
    {
      "cell_type": "code",
      "source": [
        "try:\n",
        "    data = {\"name\": \"Alice\"}\n",
        "    print(data[\"age\"])\n",
        "except KeyError:\n",
        "    print(\"Key not found in dictionary.\")"
      ],
      "metadata": {
        "colab": {
          "base_uri": "https://localhost:8080/"
        },
        "id": "EnvgRqSkTh30",
        "outputId": "55104e95-b88a-4d1a-ebb8-2d1efe41f6b9"
      },
      "execution_count": 11,
      "outputs": [
        {
          "output_type": "stream",
          "name": "stdout",
          "text": [
            "Key not found in dictionary.\n"
          ]
        }
      ]
    },
    {
      "cell_type": "markdown",
      "source": [
        "12. Write a program that demonstrates using multiple except blocks to handle different types of exceptions."
      ],
      "metadata": {
        "id": "3p_DDf_et5rx"
      }
    },
    {
      "cell_type": "code",
      "source": [
        "try:\n",
        "    a = [1, 2, 3]\n",
        "    print(a[5])\n",
        "    print(10 / 0)\n",
        "except IndexError:\n",
        "    print(\"Index out of range.\")\n",
        "except ZeroDivisionError:\n",
        "    print(\"Cannot divide by zero.\")"
      ],
      "metadata": {
        "colab": {
          "base_uri": "https://localhost:8080/"
        },
        "id": "gT-54rCAt58q",
        "outputId": "f598fb95-d040-47ef-dcfc-368980e65e21"
      },
      "execution_count": 12,
      "outputs": [
        {
          "output_type": "stream",
          "name": "stdout",
          "text": [
            "Index out of range.\n"
          ]
        }
      ]
    },
    {
      "cell_type": "markdown",
      "source": [
        "13. How would you check if a file exists before attempting to read it in Python?"
      ],
      "metadata": {
        "id": "EyFJBSvgt6O3"
      }
    },
    {
      "cell_type": "code",
      "source": [
        "import os\n",
        "\n",
        "filename = \"output.txt\"\n",
        "if os.path.exists(filename):\n",
        "    with open(filename, \"r\") as file:\n",
        "        print(file.read())\n",
        "else:\n",
        "    print(\"File does not exist.\")"
      ],
      "metadata": {
        "colab": {
          "base_uri": "https://localhost:8080/"
        },
        "id": "7l17-hgHt6cg",
        "outputId": "fc620013-cb9b-4fa7-8a49-ce7088c94d1b"
      },
      "execution_count": 13,
      "outputs": [
        {
          "output_type": "stream",
          "name": "stdout",
          "text": [
            "Hello, world!\n",
            "Appended line.\n"
          ]
        }
      ]
    },
    {
      "cell_type": "markdown",
      "source": [
        "14. Write a program that uses the logging module to log both informational and error messages."
      ],
      "metadata": {
        "id": "oFQDDasTt6yi"
      }
    },
    {
      "cell_type": "code",
      "source": [
        "import logging\n",
        "\n",
        "logging.basicConfig(filename='app.log', level=logging.DEBUG)\n",
        "\n",
        "logging.info(\"Starting the application.\")\n",
        "try:\n",
        "    1 / 0\n",
        "except ZeroDivisionError as e:\n",
        "    logging.error(\"Error occurred: %s\", e)"
      ],
      "metadata": {
        "id": "cy71lSqit7AX"
      },
      "execution_count": null,
      "outputs": []
    },
    {
      "cell_type": "markdown",
      "source": [
        "15. Write a Python program that prints the content of a file and handles the case when the file is empty."
      ],
      "metadata": {
        "id": "0gubizvit7Nr"
      }
    },
    {
      "cell_type": "code",
      "source": [
        "with open(\"output.txt\", \"r\") as file:\n",
        "    content = file.read()\n",
        "    if not content:\n",
        "        print(\"File is empty.\")\n",
        "    else:\n",
        "        print(content)"
      ],
      "metadata": {
        "colab": {
          "base_uri": "https://localhost:8080/"
        },
        "id": "aIz9XY0Vt7bu",
        "outputId": "7e228dde-ae3a-4826-e3ab-0b199fac8976"
      },
      "execution_count": 14,
      "outputs": [
        {
          "output_type": "stream",
          "name": "stdout",
          "text": [
            "Hello, world!\n",
            "Appended line.\n"
          ]
        }
      ]
    },
    {
      "cell_type": "markdown",
      "source": [
        "16. Demonstrate how to use memory profiling to check the memory usage of a small program."
      ],
      "metadata": {
        "id": "54doHZPMt7pW"
      }
    },
    {
      "cell_type": "code",
      "source": [
        "from memory_profiler import profile\n",
        "\n",
        "@profile\n",
        "def generate_list():\n",
        "    return [i for i in range(20)]\n",
        "\n",
        "generate_list()"
      ],
      "metadata": {
        "colab": {
          "base_uri": "https://localhost:8080/"
        },
        "id": "W7IEodCRt71P",
        "outputId": "3ac500aa-3f33-4e6f-aa8c-cc72f1be61bb"
      },
      "execution_count": 19,
      "outputs": [
        {
          "output_type": "stream",
          "name": "stdout",
          "text": [
            "ERROR: Could not find file <ipython-input-19-352b61275e9a>\n",
            "NOTE: %mprun can only be used on functions defined in physical files, and not in the IPython environment.\n"
          ]
        },
        {
          "output_type": "execute_result",
          "data": {
            "text/plain": [
              "[0, 1, 2, 3, 4, 5, 6, 7, 8, 9, 10, 11, 12, 13, 14, 15, 16, 17, 18, 19]"
            ]
          },
          "metadata": {},
          "execution_count": 19
        }
      ]
    },
    {
      "cell_type": "markdown",
      "source": [
        "17. Write a Python program to create and write a list of numbers to a file, one number per line."
      ],
      "metadata": {
        "id": "xsZ-VZ-Ut8ED"
      }
    },
    {
      "cell_type": "code",
      "source": [
        "numbers = [1, 2, 3, 4, 5]\n",
        "with open(\"numbers.txt\", \"w\") as file:\n",
        "    for number in numbers:\n",
        "        file.write(f\"{number}\\n\")"
      ],
      "metadata": {
        "id": "VAT04qK2t8P0"
      },
      "execution_count": 20,
      "outputs": []
    },
    {
      "cell_type": "markdown",
      "source": [
        "18.  How would you implement a basic logging setup that logs to a file with rotation after 1MB?"
      ],
      "metadata": {
        "id": "iwhOtdYqt8p6"
      }
    },
    {
      "cell_type": "code",
      "source": [
        "import logging\n",
        "from logging.handlers import RotatingFileHandler\n",
        "\n",
        "handler = RotatingFileHandler(\"rotated.log\", maxBytes=1024*1024, backupCount=3)\n",
        "logging.basicConfig(handlers=[handler], level=logging.INFO)\n",
        "\n",
        "logging.info(\"This is a test log entry.\")"
      ],
      "metadata": {
        "id": "Z3r4EapFt82I"
      },
      "execution_count": 21,
      "outputs": []
    },
    {
      "cell_type": "markdown",
      "source": [
        "19. Write a program that handles both IndexError and KeyError using a try-except block."
      ],
      "metadata": {
        "id": "jjXxo7hpt9OS"
      }
    },
    {
      "cell_type": "code",
      "source": [
        "try:\n",
        "    my_list = [1, 2, 3]\n",
        "    print(my_list[5])\n",
        "    my_dict = {\"a\": 1}\n",
        "    print(my_dict[\"b\"])\n",
        "except IndexError:\n",
        "    print(\"Index out of range.\")\n",
        "except KeyError:\n",
        "    print(\"Key not found.\")"
      ],
      "metadata": {
        "colab": {
          "base_uri": "https://localhost:8080/"
        },
        "id": "yZOHOykOt9cC",
        "outputId": "1fdbfadf-e4cb-4879-bac0-a05c6adfbf14"
      },
      "execution_count": 22,
      "outputs": [
        {
          "output_type": "stream",
          "name": "stdout",
          "text": [
            "Index out of range.\n"
          ]
        }
      ]
    },
    {
      "cell_type": "markdown",
      "source": [
        "20.  How would you open a file and read its contents using a context manager in Python?"
      ],
      "metadata": {
        "id": "yM8Gj-13t9qb"
      }
    },
    {
      "cell_type": "code",
      "source": [
        "with open(\"output.txt\", \"r\") as file:\n",
        "    content = file.read()\n",
        "    print(content)"
      ],
      "metadata": {
        "colab": {
          "base_uri": "https://localhost:8080/"
        },
        "id": "Aai3C8F5t936",
        "outputId": "c668d09a-6d85-4d1d-8afc-49ed4d9f7fa2"
      },
      "execution_count": 23,
      "outputs": [
        {
          "output_type": "stream",
          "name": "stdout",
          "text": [
            "Hello, world!\n",
            "Appended line.\n"
          ]
        }
      ]
    },
    {
      "cell_type": "markdown",
      "source": [
        "21. Write a Python program that reads a file and prints the number of occurrences of a specific word."
      ],
      "metadata": {
        "id": "hArssvIZt-Gy"
      }
    },
    {
      "cell_type": "code",
      "source": [
        "word = \"Python\"\n",
        "count = 0\n",
        "# with open(\"sample.txt\", \"r\") as file:\n",
        "#     for line in file:\n",
        "#         count += line.lower().count(word.lower())\n",
        "print(f\"The word '{word}' occurred {count} times.\")"
      ],
      "metadata": {
        "colab": {
          "base_uri": "https://localhost:8080/"
        },
        "id": "aah0-gXUt-Tz",
        "outputId": "ee408d55-210f-43df-de5b-e1f5902656d7"
      },
      "execution_count": 25,
      "outputs": [
        {
          "output_type": "stream",
          "name": "stdout",
          "text": [
            "The word 'Python' occurred 0 times.\n"
          ]
        }
      ]
    },
    {
      "cell_type": "markdown",
      "source": [
        "22. How can you check if a file is empty before attempting to read its contents?"
      ],
      "metadata": {
        "id": "Mqh04KmJt-qL"
      }
    },
    {
      "cell_type": "code",
      "source": [
        "import os\n",
        "\n",
        "filename = \"output.txt\"\n",
        "if os.path.getsize(filename) == 0:\n",
        "    print(\"File is empty.\")\n",
        "else:\n",
        "    with open(filename, \"r\") as file:\n",
        "        print(file.read())"
      ],
      "metadata": {
        "colab": {
          "base_uri": "https://localhost:8080/"
        },
        "id": "_bHpxm84t_I6",
        "outputId": "e095e026-d5d8-4681-82f6-6b7587c2dd9a"
      },
      "execution_count": 26,
      "outputs": [
        {
          "output_type": "stream",
          "name": "stdout",
          "text": [
            "Hello, world!\n",
            "Appended line.\n"
          ]
        }
      ]
    },
    {
      "cell_type": "markdown",
      "source": [
        "23. Write a Python program that writes to a log file when an error occurs during file handling."
      ],
      "metadata": {
        "id": "kBsHgtX_t_cu"
      }
    },
    {
      "cell_type": "code",
      "source": [
        "import logging\n",
        "\n",
        "logging.basicConfig(filename=\"file_error.log\", level=logging.ERROR)\n",
        "\n",
        "try:\n",
        "    with open(\"nonexistent.txt\", \"r\") as file:\n",
        "        content = file.read()\n",
        "except Exception as e:\n",
        "    logging.error(\"An error occurred while reading file: %s\", e)"
      ],
      "metadata": {
        "colab": {
          "base_uri": "https://localhost:8080/"
        },
        "id": "9no1is2at_rk",
        "outputId": "0e0ac223-b941-468f-c9fa-64b0f2033ad7"
      },
      "execution_count": 27,
      "outputs": [
        {
          "output_type": "stream",
          "name": "stderr",
          "text": [
            "ERROR:root:An error occurred while reading file: [Errno 2] No such file or directory: 'nonexistent.txt'\n"
          ]
        }
      ]
    }
  ]
}