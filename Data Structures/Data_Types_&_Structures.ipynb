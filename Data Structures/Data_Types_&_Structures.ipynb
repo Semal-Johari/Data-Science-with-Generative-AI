{
  "nbformat": 4,
  "nbformat_minor": 0,
  "metadata": {
    "colab": {
      "provenance": []
    },
    "kernelspec": {
      "name": "python3",
      "display_name": "Python 3"
    },
    "language_info": {
      "name": "python"
    }
  },
  "cells": [
    {
      "cell_type": "markdown",
      "source": [
        "# Data Types & Structures"
      ],
      "metadata": {
        "id": "FP4ceDfUNdCU"
      }
    },
    {
      "cell_type": "markdown",
      "source": [
        "## Theoretical Questions"
      ],
      "metadata": {
        "id": "PkMqF_FnOE8z"
      }
    },
    {
      "cell_type": "markdown",
      "source": [
        "1. What are data structures, and why are they important?\n",
        "  - Data structures are ways of organizing and storing data to perform operations efficiently.\n",
        "They are important because they:\n",
        "\n",
        "      - Improve data processing efficiency\n",
        "\n",
        "      - Help manage large amounts of data\n",
        "\n",
        "      - Enable faster algorithms (searching, sorting, etc.)"
      ],
      "metadata": {
        "id": "pWUZhwTMOMjN"
      }
    },
    {
      "cell_type": "markdown",
      "source": [
        "2.  Explain the difference between mutable and immutable data types with examples.\n",
        "\n",
        "  - Mutable: Can be changed after creation\n",
        "      \n",
        "      Examples: list, dict, set\n",
        "\n",
        "  - Immutable: Cannot be changed after creation\n",
        "      \n",
        "      Examples: tuple, str, int"
      ],
      "metadata": {
        "id": "tLbmP6I5OMvN"
      }
    },
    {
      "cell_type": "markdown",
      "source": [
        "3. What are the main differences between lists and tuples in Python?\n",
        "\n",
        "  - Lists are mutable, while tuples are immutable.\n",
        "\n",
        "  - Lists use square brackets, while tuples use round brackets.\n",
        "\n",
        "  - Lists are used for changing data, whereas tuples are used for fixed data.\n",
        "\n",
        "  - Lists are slower, while tuples are faster."
      ],
      "metadata": {
        "id": "SXrYp1IaOM7B"
      }
    },
    {
      "cell_type": "markdown",
      "source": [
        "4. Describe how dictionaries store data.\n",
        "  - Dictionaries store data as key-value pairs, like:\n",
        "\n",
        "      person = {\"name\": \"Alice\", \"age\": 30}\n",
        "\n",
        "  - Keys are unique and used to access their associated values."
      ],
      "metadata": {
        "id": "MdL-JG62ONIF"
      }
    },
    {
      "cell_type": "markdown",
      "source": [
        "5. Why might you use a set instead of a list in Python?\n",
        "\n",
        "  - We use a set when:\n",
        "\n",
        "      - We need unique values only\n",
        "\n",
        "      - We want fast membership testing (in)\n",
        "\n",
        "      - We don’t care about order"
      ],
      "metadata": {
        "id": "GMlDrd_oONXp"
      }
    },
    {
      "cell_type": "markdown",
      "source": [
        "6. What is a string in Python, and how is it different from a list?\n",
        "\n",
        "  - A string is a sequence of characters (e.g., \"hello\")\n",
        "\n",
        "  - A list can hold multiple data types (e.g., [1, \"a\", 3.5])\n",
        "\n",
        "  - Strings are immutable, lists are mutable"
      ],
      "metadata": {
        "id": "WyC-Rr-wONmq"
      }
    },
    {
      "cell_type": "markdown",
      "source": [
        "7. How do tuples ensure data integrity in Python?\n",
        "\n",
        "  - Tuples are immutable, so once created, their content can't be changed.\n",
        "This makes them ideal for fixed data that shouldn’t be modified, like coordinates.\n",
        "\n"
      ],
      "metadata": {
        "id": "6-IrDTt2ONzW"
      }
    },
    {
      "cell_type": "markdown",
      "source": [
        "8. What is a hash table, and how does it relate to dictionaries in Python?\n",
        "\n",
        "  - A hash table stores key-value pairs using a hash function.\n",
        "Python dictionaries are built on hash tables, allowing constant time (O(1)) lookups."
      ],
      "metadata": {
        "id": "upUPz-Q1OOAh"
      }
    },
    {
      "cell_type": "markdown",
      "source": [
        "9. Can lists contain different data types in Python?\n",
        "\n",
        "  - Yes! Python lists are heterogeneous:\n"
      ],
      "metadata": {
        "id": "2nZwQGDGOOP1"
      }
    },
    {
      "cell_type": "code",
      "source": [
        "my_list = [1, \"hello\", True, 3.14]"
      ],
      "metadata": {
        "id": "w8G3Vb8fENe3"
      },
      "execution_count": 3,
      "outputs": []
    },
    {
      "cell_type": "markdown",
      "source": [
        "10. Explain why strings are immutable in Python.\n",
        "\n",
        "  - Strings are immutable for:\n",
        "\n",
        "      - Security (e.g., safe for use as keys)\n",
        "\n",
        "      - Performance (interning and memory optimization)\n",
        "\n",
        "      - Thread safety"
      ],
      "metadata": {
        "id": "fCqBO15eOOfs"
      }
    },
    {
      "cell_type": "markdown",
      "source": [
        "11. What advantages do dictionaries offer over lists for certain tasks?\n",
        "\n",
        "  - Faster lookups with keys\n",
        "\n",
        "  - Data access by meaningful identifiers, not index\n",
        "\n",
        "  - Better structure for mapping relationships"
      ],
      "metadata": {
        "id": "iryjz0_bOOsC"
      }
    },
    {
      "cell_type": "markdown",
      "source": [
        "12. Describe a scenario where using a tuple would be preferable over a list.\n",
        "\n",
        "  - When we want:\n",
        "\n",
        "      - Fixed data that shouldn't change\n",
        "\n",
        "      - To use it as a dictionary key\n",
        "\n",
        "      - Better performance (less memory, faster access)"
      ],
      "metadata": {
        "id": "yA_VRVaSOO5_"
      }
    },
    {
      "cell_type": "markdown",
      "source": [
        "13. How do sets handle duplicate values in Python?\n",
        "\n",
        "  - Sets automatically eliminate duplicates:"
      ],
      "metadata": {
        "id": "Dlls3v_sOPHU"
      }
    },
    {
      "cell_type": "code",
      "source": [
        "set([1, 2, 2, 3])"
      ],
      "metadata": {
        "colab": {
          "base_uri": "https://localhost:8080/"
        },
        "id": "wdGRoiffEEBq",
        "outputId": "6ce8f748-18b4-4146-d9f3-eacedf797ac0"
      },
      "execution_count": 2,
      "outputs": [
        {
          "output_type": "execute_result",
          "data": {
            "text/plain": [
              "{1, 2, 3}"
            ]
          },
          "metadata": {},
          "execution_count": 2
        }
      ]
    },
    {
      "cell_type": "markdown",
      "source": [
        "14. How does the in keyword work differently for lists and dictionaries?\n",
        "\n",
        "  - In lists, it checks if a value exists.\n",
        "\n",
        "  - In dicts, it checks if a key exists."
      ],
      "metadata": {
        "id": "GjQGfra4OPYT"
      }
    },
    {
      "cell_type": "markdown",
      "source": [
        "15.  Can you modify the elements of a tuple? Explain why or why not.\n",
        "\n",
        "  - No. Tuples are immutable, so elements cannot be changed after creation.\n",
        "Trying to do so raises a TypeError.\n"
      ],
      "metadata": {
        "id": "hLhxy1rROPoI"
      }
    },
    {
      "cell_type": "markdown",
      "source": [
        "16. What is a nested dictionary, and give an example of its use case.\n",
        "\n",
        "  - A nested dictionary is a dictionary inside another dictionary.\n",
        "\n",
        "      For example:"
      ],
      "metadata": {
        "id": "4tmiAYFeOP3h"
      }
    },
    {
      "cell_type": "code",
      "source": [
        "student = {\n",
        "    \"name\": \"Alice\",\n",
        "    \"grades\": {\"math\": 90, \"science\": 85}\n",
        "}"
      ],
      "metadata": {
        "id": "hDXAo7zzD7Lz"
      },
      "execution_count": 1,
      "outputs": []
    },
    {
      "cell_type": "markdown",
      "source": [
        "17. Describe the time complexity of accessing elements in a dictionary.\n",
        "\n",
        "  - Accessing an item by key is O(1) on average due to the hash table structure."
      ],
      "metadata": {
        "id": "o2URcxlaOQFc"
      }
    },
    {
      "cell_type": "markdown",
      "source": [
        "18.  In what situations are lists preferred over dictionaries?\n",
        "\n",
        "  - When order matters\n",
        "\n",
        "  - When working with simple collections\n",
        "\n",
        "  - When you don’t need key-value pairs"
      ],
      "metadata": {
        "id": "-v_qkr5jOQUt"
      }
    },
    {
      "cell_type": "markdown",
      "source": [
        "19. Why are dictionaries considered unordered, and how does that affect data retrieval?\n",
        "\n",
        "  - Before Python 3.7, dictionaries didn’t maintain insertion order.\n",
        "From Python 3.7+, they do maintain order, but conceptually they’re still about key-value access, not position."
      ],
      "metadata": {
        "id": "lT09B06GOQjf"
      }
    },
    {
      "cell_type": "markdown",
      "source": [
        "20.  Explain the difference between a list and a dictionary in terms of data retrieval.\n",
        "\n",
        "  - Lists can be accessed by item indexes, while dictionaries can be accessed by keys.\n",
        "\n",
        "  - Lists have the time complexity of O(n) and are therefore slower than dictionaries which have the time complexity of O(1).\n",
        "\n",
        "  - Lists have a sequential structure, while dictionaries have key-value mappings."
      ],
      "metadata": {
        "id": "OyfRPPTUOQ0C"
      }
    },
    {
      "cell_type": "markdown",
      "source": [
        "## Practical Questions"
      ],
      "metadata": {
        "id": "-JQ_IVNhOFMT"
      }
    },
    {
      "cell_type": "markdown",
      "source": [
        "1. Write a code to create a string with your name and print it."
      ],
      "metadata": {
        "id": "-pj4C7OfS-W6"
      }
    },
    {
      "cell_type": "code",
      "execution_count": 1,
      "metadata": {
        "id": "0wgGBMCvNOUz",
        "colab": {
          "base_uri": "https://localhost:8080/"
        },
        "outputId": "76a57329-8d9b-4f67-9722-324136959c49"
      },
      "outputs": [
        {
          "output_type": "stream",
          "name": "stdout",
          "text": [
            "Semal\n"
          ]
        }
      ],
      "source": [
        "name = \"Semal\"\n",
        "print(name)"
      ]
    },
    {
      "cell_type": "markdown",
      "source": [
        "2. Write a code to find the length of the string \"Hello World\"."
      ],
      "metadata": {
        "id": "Zeo3mrjOThvC"
      }
    },
    {
      "cell_type": "code",
      "source": [
        "text = \"Hello World\"\n",
        "print(len(text))"
      ],
      "metadata": {
        "colab": {
          "base_uri": "https://localhost:8080/"
        },
        "id": "2cbHbHJSTiLR",
        "outputId": "bc4326d3-90c1-4581-ce20-562e79b4cf54"
      },
      "execution_count": 2,
      "outputs": [
        {
          "output_type": "stream",
          "name": "stdout",
          "text": [
            "11\n"
          ]
        }
      ]
    },
    {
      "cell_type": "markdown",
      "source": [
        "3. Write a code to slice the first 3 characters from the string \"Python Programming\"."
      ],
      "metadata": {
        "id": "T-lcNkE-Tibk"
      }
    },
    {
      "cell_type": "code",
      "source": [
        "s = \"Python Programming\"\n",
        "print(s[:3])"
      ],
      "metadata": {
        "colab": {
          "base_uri": "https://localhost:8080/"
        },
        "id": "LleJ90a8TirR",
        "outputId": "bde50f28-ed6c-4008-a8db-083363ccec55"
      },
      "execution_count": 3,
      "outputs": [
        {
          "output_type": "stream",
          "name": "stdout",
          "text": [
            "Pyt\n"
          ]
        }
      ]
    },
    {
      "cell_type": "markdown",
      "source": [
        "4. Write a code to convert the string \"hello\" to uppercase."
      ],
      "metadata": {
        "id": "XYbs_I2nTi6f"
      }
    },
    {
      "cell_type": "code",
      "source": [
        "text = \"hello\"\n",
        "print(text.upper())"
      ],
      "metadata": {
        "colab": {
          "base_uri": "https://localhost:8080/"
        },
        "id": "BvWct5-NTjJH",
        "outputId": "8d93ca60-b3cb-4e70-c828-20811c7de872"
      },
      "execution_count": 4,
      "outputs": [
        {
          "output_type": "stream",
          "name": "stdout",
          "text": [
            "HELLO\n"
          ]
        }
      ]
    },
    {
      "cell_type": "markdown",
      "source": [
        "5. Write a code to replace the word \"apple\" with \"orange\" in the string \"I like apple\"."
      ],
      "metadata": {
        "id": "HFH3fJBjTjW5"
      }
    },
    {
      "cell_type": "code",
      "source": [
        "sentence = \"I like apple\"\n",
        "new_sentence = sentence.replace(\"apple\", \"orange\")\n",
        "print(new_sentence)"
      ],
      "metadata": {
        "colab": {
          "base_uri": "https://localhost:8080/"
        },
        "id": "kQS9Fe9UTjoo",
        "outputId": "50e14e77-975a-43c5-f08e-ad27de9ba4f1"
      },
      "execution_count": 5,
      "outputs": [
        {
          "output_type": "stream",
          "name": "stdout",
          "text": [
            "I like orange\n"
          ]
        }
      ]
    },
    {
      "cell_type": "markdown",
      "source": [
        "6. Write a code to create a list with numbers 1 to 5 and print it."
      ],
      "metadata": {
        "id": "4Ii2WFyzTj5e"
      }
    },
    {
      "cell_type": "code",
      "source": [
        "numbers = [1, 2, 3, 4, 5]\n",
        "print(numbers)"
      ],
      "metadata": {
        "colab": {
          "base_uri": "https://localhost:8080/"
        },
        "id": "onhVfEhcTkKA",
        "outputId": "6e144fcc-0b5e-477c-e561-e19c7c8bf461"
      },
      "execution_count": 6,
      "outputs": [
        {
          "output_type": "stream",
          "name": "stdout",
          "text": [
            "[1, 2, 3, 4, 5]\n"
          ]
        }
      ]
    },
    {
      "cell_type": "markdown",
      "source": [
        "7. Write a code to append the number 10 to the list [1, 2, 3, 4]."
      ],
      "metadata": {
        "id": "tNkmckOATkYU"
      }
    },
    {
      "cell_type": "code",
      "source": [
        "my_list = [1, 2, 3, 4]\n",
        "my_list.append(10)\n",
        "print(my_list)"
      ],
      "metadata": {
        "colab": {
          "base_uri": "https://localhost:8080/"
        },
        "id": "SGUXLYXGTkn3",
        "outputId": "e73a4f94-ab77-4786-b228-8245ddfcbeda"
      },
      "execution_count": 7,
      "outputs": [
        {
          "output_type": "stream",
          "name": "stdout",
          "text": [
            "[1, 2, 3, 4, 10]\n"
          ]
        }
      ]
    },
    {
      "cell_type": "markdown",
      "source": [
        "8. Write a code to remove the number 3 from the list [1, 2, 3, 4, 5]."
      ],
      "metadata": {
        "id": "K20TidjkTk5B"
      }
    },
    {
      "cell_type": "code",
      "source": [
        "my_list = [1, 2, 3, 4, 5]\n",
        "my_list.remove(3)\n",
        "print(my_list)"
      ],
      "metadata": {
        "colab": {
          "base_uri": "https://localhost:8080/"
        },
        "id": "ZBDVZ7CnTlIZ",
        "outputId": "8eadbfa9-3d3e-4a69-9591-0781297cb564"
      },
      "execution_count": 8,
      "outputs": [
        {
          "output_type": "stream",
          "name": "stdout",
          "text": [
            "[1, 2, 4, 5]\n"
          ]
        }
      ]
    },
    {
      "cell_type": "markdown",
      "source": [
        "9. Write a code to access the second element in the list ['a', 'b', 'c', 'd']."
      ],
      "metadata": {
        "id": "AbkG4W_vTlYV"
      }
    },
    {
      "cell_type": "code",
      "source": [
        "letters = ['a', 'b', 'c', 'd']\n",
        "print(letters[1])"
      ],
      "metadata": {
        "colab": {
          "base_uri": "https://localhost:8080/"
        },
        "id": "pfEY9L5qTlt9",
        "outputId": "6504635c-97d7-4dfd-cf24-9a3751feaa0a"
      },
      "execution_count": 9,
      "outputs": [
        {
          "output_type": "stream",
          "name": "stdout",
          "text": [
            "b\n"
          ]
        }
      ]
    },
    {
      "cell_type": "markdown",
      "source": [
        "10. Write a code to reverse the list [10, 20, 30, 40, 50]."
      ],
      "metadata": {
        "id": "uabyLdpuTl_w"
      }
    },
    {
      "cell_type": "code",
      "source": [
        "my_list = [10, 20, 30, 40, 50]\n",
        "my_list.reverse()\n",
        "print(my_list)"
      ],
      "metadata": {
        "colab": {
          "base_uri": "https://localhost:8080/"
        },
        "id": "8fEHAoR1TmP_",
        "outputId": "e56150ab-3f2d-453b-b0c0-ac040d8a7df2"
      },
      "execution_count": 10,
      "outputs": [
        {
          "output_type": "stream",
          "name": "stdout",
          "text": [
            "[50, 40, 30, 20, 10]\n"
          ]
        }
      ]
    },
    {
      "cell_type": "markdown",
      "source": [
        "11. Write a code to create a tuple with the elements 100, 200, 300 and print it."
      ],
      "metadata": {
        "id": "hUT10liYTm2s"
      }
    },
    {
      "cell_type": "code",
      "source": [
        "my_tuple = (100, 200, 300)\n",
        "print(my_tuple)"
      ],
      "metadata": {
        "colab": {
          "base_uri": "https://localhost:8080/"
        },
        "id": "v-v8qb29TnGh",
        "outputId": "800af6ed-23d0-46df-9a97-8ccd29f7d39e"
      },
      "execution_count": 11,
      "outputs": [
        {
          "output_type": "stream",
          "name": "stdout",
          "text": [
            "(100, 200, 300)\n"
          ]
        }
      ]
    },
    {
      "cell_type": "markdown",
      "source": [
        "12. Write a code to access the second-to-last element of the tuple ('red', 'green', 'blue', 'yellow')."
      ],
      "metadata": {
        "id": "t8GBigzxTnZP"
      }
    },
    {
      "cell_type": "code",
      "source": [
        "colors = ('red', 'green', 'blue', 'yellow')\n",
        "print(colors[-2])"
      ],
      "metadata": {
        "colab": {
          "base_uri": "https://localhost:8080/"
        },
        "id": "g70Q2qLUTnoE",
        "outputId": "f5b5faf7-9587-403b-a9aa-6a38627cfd02"
      },
      "execution_count": 12,
      "outputs": [
        {
          "output_type": "stream",
          "name": "stdout",
          "text": [
            "blue\n"
          ]
        }
      ]
    },
    {
      "cell_type": "markdown",
      "source": [
        "13. Write a code to find the minimum number in the tuple (10, 20, 5, 15)."
      ],
      "metadata": {
        "id": "DSu_25-yToBp"
      }
    },
    {
      "cell_type": "code",
      "source": [
        "numbers = (10, 20, 5, 15)\n",
        "print(min(numbers))"
      ],
      "metadata": {
        "colab": {
          "base_uri": "https://localhost:8080/"
        },
        "id": "xwlXrZNAToXt",
        "outputId": "ddb3dbc0-0c14-4b3f-f95c-c0db592f65e1"
      },
      "execution_count": 13,
      "outputs": [
        {
          "output_type": "stream",
          "name": "stdout",
          "text": [
            "5\n"
          ]
        }
      ]
    },
    {
      "cell_type": "markdown",
      "source": [
        "14. Write a code to find the index of the element \"cat\" in the tuple ('dog', 'cat', 'rabbit')."
      ],
      "metadata": {
        "id": "op6TaveoTomV"
      }
    },
    {
      "cell_type": "code",
      "source": [
        "animals = ('dog', 'cat', 'rabbit')\n",
        "print(animals.index(\"cat\"))"
      ],
      "metadata": {
        "colab": {
          "base_uri": "https://localhost:8080/"
        },
        "id": "DlFN3HZXTo8w",
        "outputId": "bf3c08a1-bd59-4aa0-e8b0-71f71094ee49"
      },
      "execution_count": 14,
      "outputs": [
        {
          "output_type": "stream",
          "name": "stdout",
          "text": [
            "1\n"
          ]
        }
      ]
    },
    {
      "cell_type": "markdown",
      "source": [
        "15. Write a code to create a tuple containing three different fruits and check if \"kiwi\" is in it."
      ],
      "metadata": {
        "id": "EsDDDynNTpR6"
      }
    },
    {
      "cell_type": "code",
      "source": [
        "fruits = (\"apple\", \"banana\", \"cherry\")\n",
        "print(\"kiwi\" in fruits)"
      ],
      "metadata": {
        "colab": {
          "base_uri": "https://localhost:8080/"
        },
        "id": "yD_oJQz8TpkZ",
        "outputId": "80c20e67-3ed2-47ab-a3b9-b9a63606f71c"
      },
      "execution_count": 15,
      "outputs": [
        {
          "output_type": "stream",
          "name": "stdout",
          "text": [
            "False\n"
          ]
        }
      ]
    },
    {
      "cell_type": "markdown",
      "source": [
        "16. Write a code to create a set with the elements 'a', 'b', 'c' and print it."
      ],
      "metadata": {
        "id": "EnuYmpVQTp14"
      }
    },
    {
      "cell_type": "code",
      "source": [
        "my_set = {'a', 'b', 'c'}\n",
        "print(my_set)"
      ],
      "metadata": {
        "colab": {
          "base_uri": "https://localhost:8080/"
        },
        "id": "TUeKzzcXTqIO",
        "outputId": "893151e5-1657-4ab7-f96e-7f4bcef003a2"
      },
      "execution_count": 16,
      "outputs": [
        {
          "output_type": "stream",
          "name": "stdout",
          "text": [
            "{'c', 'b', 'a'}\n"
          ]
        }
      ]
    },
    {
      "cell_type": "markdown",
      "source": [
        "17. Write a code to clear all elements from the set {1, 2, 3, 4, 5}."
      ],
      "metadata": {
        "id": "S4MQyLU-TqXm"
      }
    },
    {
      "cell_type": "code",
      "source": [
        "my_set = {1, 2, 3, 4, 5}\n",
        "my_set.clear()\n",
        "print(my_set)"
      ],
      "metadata": {
        "colab": {
          "base_uri": "https://localhost:8080/"
        },
        "id": "Nnzhivw-TqpO",
        "outputId": "46b2f6ac-163b-4c30-81e3-227da2569632"
      },
      "execution_count": 17,
      "outputs": [
        {
          "output_type": "stream",
          "name": "stdout",
          "text": [
            "set()\n"
          ]
        }
      ]
    },
    {
      "cell_type": "markdown",
      "source": [
        "18. Write a code to remove the element 4 from the set {1, 2, 3, 4}."
      ],
      "metadata": {
        "id": "KmlunMQyTq5C"
      }
    },
    {
      "cell_type": "code",
      "source": [
        "my_set = {1, 2, 3, 4}\n",
        "my_set.remove(4)\n",
        "print(my_set)"
      ],
      "metadata": {
        "colab": {
          "base_uri": "https://localhost:8080/"
        },
        "id": "Yn7Lok11TrJW",
        "outputId": "96912513-3184-4658-c5f0-165ea015d375"
      },
      "execution_count": 18,
      "outputs": [
        {
          "output_type": "stream",
          "name": "stdout",
          "text": [
            "{1, 2, 3}\n"
          ]
        }
      ]
    },
    {
      "cell_type": "markdown",
      "source": [
        "19. Write a code to find the union of two sets {1, 2, 3} and {3, 4, 5}."
      ],
      "metadata": {
        "id": "9RZ1j80KTrcK"
      }
    },
    {
      "cell_type": "code",
      "source": [
        "a = {1, 2, 3}\n",
        "b = {3, 4, 5}\n",
        "print(a.union(b))"
      ],
      "metadata": {
        "colab": {
          "base_uri": "https://localhost:8080/"
        },
        "id": "jym9e2u_Tru2",
        "outputId": "e4b93c64-4c2b-4cb5-e8d8-f6742784d0b5"
      },
      "execution_count": 19,
      "outputs": [
        {
          "output_type": "stream",
          "name": "stdout",
          "text": [
            "{1, 2, 3, 4, 5}\n"
          ]
        }
      ]
    },
    {
      "cell_type": "markdown",
      "source": [
        "20. Write a code to find the intersection of two sets {1, 2, 3} and {2, 3, 4}."
      ],
      "metadata": {
        "id": "NBRtV3SkTsAP"
      }
    },
    {
      "cell_type": "code",
      "source": [
        "a = {1, 2, 3}\n",
        "b = {2, 3, 4}\n",
        "print(a.intersection(b))"
      ],
      "metadata": {
        "colab": {
          "base_uri": "https://localhost:8080/"
        },
        "id": "yCgfJ5lxTsQl",
        "outputId": "56a53e93-b73e-4c14-c917-d1cafcd67fe8"
      },
      "execution_count": 20,
      "outputs": [
        {
          "output_type": "stream",
          "name": "stdout",
          "text": [
            "{2, 3}\n"
          ]
        }
      ]
    },
    {
      "cell_type": "markdown",
      "source": [
        "21. Write a code to create a dictionary with the keys \"name\", \"age\", and \"city\", and print it."
      ],
      "metadata": {
        "id": "ls9rBZjMTsi8"
      }
    },
    {
      "cell_type": "code",
      "source": [
        "person = {\"name\": \"Alice\", \"age\": 30, \"city\": \"London\"}\n",
        "print(person)"
      ],
      "metadata": {
        "colab": {
          "base_uri": "https://localhost:8080/"
        },
        "id": "YaTsHDrFTs0s",
        "outputId": "2b921b56-1990-45c4-e7f3-a83e9dbe01a9"
      },
      "execution_count": 21,
      "outputs": [
        {
          "output_type": "stream",
          "name": "stdout",
          "text": [
            "{'name': 'Alice', 'age': 30, 'city': 'London'}\n"
          ]
        }
      ]
    },
    {
      "cell_type": "markdown",
      "source": [
        "22. Write a code to add a new key-value pair \"country\": \"USA\" to the dictionary {'name': 'John', 'age': 25}."
      ],
      "metadata": {
        "id": "p8q1RGEZTtFx"
      }
    },
    {
      "cell_type": "code",
      "source": [
        "person = {'name': 'John', 'age': 25}\n",
        "person[\"country\"] = \"USA\"\n",
        "print(person)"
      ],
      "metadata": {
        "colab": {
          "base_uri": "https://localhost:8080/"
        },
        "id": "xV6ZjHH7Ttdm",
        "outputId": "fd1e1b67-ce1b-4cde-fc83-b833222c7657"
      },
      "execution_count": 23,
      "outputs": [
        {
          "output_type": "stream",
          "name": "stdout",
          "text": [
            "{'name': 'John', 'age': 25, 'country': 'USA'}\n"
          ]
        }
      ]
    },
    {
      "cell_type": "markdown",
      "source": [
        "23. Write a code to access the value associated with the key \"name\" in the dictionary {'name': 'Alice', 'age': 30}."
      ],
      "metadata": {
        "id": "EkMapoxSTtvf"
      }
    },
    {
      "cell_type": "code",
      "source": [
        "person = {'name': 'Alice', 'age': 30}\n",
        "print(person[\"name\"])"
      ],
      "metadata": {
        "colab": {
          "base_uri": "https://localhost:8080/"
        },
        "id": "YH57y4ckTuBv",
        "outputId": "cc576eb6-2020-4733-b8a8-89c4945acefd"
      },
      "execution_count": 22,
      "outputs": [
        {
          "output_type": "stream",
          "name": "stdout",
          "text": [
            "Alice\n"
          ]
        }
      ]
    },
    {
      "cell_type": "markdown",
      "source": [
        "24. Write a code to remove the key \"age\" from the dictionary {'name': 'Bob', 'age': 22, 'city': 'New York'}."
      ],
      "metadata": {
        "id": "IcA5-wzATuY3"
      }
    },
    {
      "cell_type": "code",
      "source": [
        "person = {'name': 'Bob', 'age': 22, 'city': 'New York'}\n",
        "del person[\"age\"]\n",
        "print(person)"
      ],
      "metadata": {
        "colab": {
          "base_uri": "https://localhost:8080/"
        },
        "id": "8dasgLryTus6",
        "outputId": "88fcee6d-d28a-4124-a8c6-e271cbe7490c"
      },
      "execution_count": 24,
      "outputs": [
        {
          "output_type": "stream",
          "name": "stdout",
          "text": [
            "{'name': 'Bob', 'city': 'New York'}\n"
          ]
        }
      ]
    },
    {
      "cell_type": "markdown",
      "source": [
        "25. Write a code to check if the key \"city\" exists in the dictionary {'name': 'Alice', 'city': 'Paris'}."
      ],
      "metadata": {
        "id": "6CYD6JT1Tu_l"
      }
    },
    {
      "cell_type": "code",
      "source": [
        "person = {'name': 'Alice', 'city': 'Paris'}\n",
        "print(\"city\" in person)"
      ],
      "metadata": {
        "colab": {
          "base_uri": "https://localhost:8080/"
        },
        "id": "-c4SxfSITvWf",
        "outputId": "53825743-c699-4add-f5aa-4b978e80edd8"
      },
      "execution_count": 25,
      "outputs": [
        {
          "output_type": "stream",
          "name": "stdout",
          "text": [
            "True\n"
          ]
        }
      ]
    },
    {
      "cell_type": "markdown",
      "source": [
        "26. Write a code to create a list, a tuple, and a dictionary, and print them all."
      ],
      "metadata": {
        "id": "PCriBUb7Tvo9"
      }
    },
    {
      "cell_type": "code",
      "source": [
        "my_list = [1, 2, 3]\n",
        "my_tuple = (4, 5, 6)\n",
        "my_dict = {\"a\": 1, \"b\": 2}\n",
        "print(my_list, my_tuple, my_dict)"
      ],
      "metadata": {
        "colab": {
          "base_uri": "https://localhost:8080/"
        },
        "id": "iDtC4PHjTv9s",
        "outputId": "229d82a6-99cb-4a6b-e2ce-7526703d4dd4"
      },
      "execution_count": 26,
      "outputs": [
        {
          "output_type": "stream",
          "name": "stdout",
          "text": [
            "[1, 2, 3] (4, 5, 6) {'a': 1, 'b': 2}\n"
          ]
        }
      ]
    },
    {
      "cell_type": "markdown",
      "source": [
        "27. Write a code to create a list of 5 random numbers between 1 and 100, sort it in ascending order, and print the\n",
        "result."
      ],
      "metadata": {
        "id": "sFti93MbTwSb"
      }
    },
    {
      "cell_type": "code",
      "source": [
        "import random\n",
        "numbers = random.sample(range(1, 101), 5)\n",
        "numbers.sort()\n",
        "print(numbers)"
      ],
      "metadata": {
        "colab": {
          "base_uri": "https://localhost:8080/"
        },
        "id": "0PEkZDWpTwql",
        "outputId": "3db686f3-8fff-4162-f8b3-b866f8acefbd"
      },
      "execution_count": 27,
      "outputs": [
        {
          "output_type": "stream",
          "name": "stdout",
          "text": [
            "[4, 5, 22, 83, 97]\n"
          ]
        }
      ]
    },
    {
      "cell_type": "markdown",
      "source": [
        "28. Write a code to create a list with strings and print the element at the third index."
      ],
      "metadata": {
        "id": "UpuFOL0ZTw9k"
      }
    },
    {
      "cell_type": "code",
      "source": [
        "words = [\"apple\", \"banana\", \"cherry\", \"date\", \"elderberry\"]\n",
        "print(words[3])"
      ],
      "metadata": {
        "colab": {
          "base_uri": "https://localhost:8080/"
        },
        "id": "h3o821oJTxSu",
        "outputId": "53b8c2fd-fc03-4f31-8823-4926bd70a394"
      },
      "execution_count": 28,
      "outputs": [
        {
          "output_type": "stream",
          "name": "stdout",
          "text": [
            "date\n"
          ]
        }
      ]
    },
    {
      "cell_type": "markdown",
      "source": [
        "29. Write a code to combine two dictionaries into one and print the result."
      ],
      "metadata": {
        "id": "R_bXcu-wTxlO"
      }
    },
    {
      "cell_type": "code",
      "source": [
        "dict1 = {\"a\": 1, \"b\": 2}\n",
        "dict2 = {\"c\": 3, \"d\": 4}\n",
        "combined = {**dict1, **dict2}\n",
        "print(combined)"
      ],
      "metadata": {
        "colab": {
          "base_uri": "https://localhost:8080/"
        },
        "id": "ckO5jMmATx4w",
        "outputId": "1519adb1-cb1e-4e29-97e0-49c3518be3fa"
      },
      "execution_count": 29,
      "outputs": [
        {
          "output_type": "stream",
          "name": "stdout",
          "text": [
            "{'a': 1, 'b': 2, 'c': 3, 'd': 4}\n"
          ]
        }
      ]
    },
    {
      "cell_type": "markdown",
      "source": [
        "30. Write a code to convert a list of strings into a set."
      ],
      "metadata": {
        "id": "a495uGKnTyTO"
      }
    },
    {
      "cell_type": "code",
      "source": [
        "my_list = [\"apple\", \"banana\", \"apple\", \"cherry\"]\n",
        "my_set = set(my_list)\n",
        "print(my_set)"
      ],
      "metadata": {
        "colab": {
          "base_uri": "https://localhost:8080/"
        },
        "id": "fOWi8Na8Tyl1",
        "outputId": "cfbde83e-71c8-497f-8ae4-44b9f996f237"
      },
      "execution_count": 30,
      "outputs": [
        {
          "output_type": "stream",
          "name": "stdout",
          "text": [
            "{'apple', 'cherry', 'banana'}\n"
          ]
        }
      ]
    }
  ]
}