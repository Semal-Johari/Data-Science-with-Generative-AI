{
  "nbformat": 4,
  "nbformat_minor": 0,
  "metadata": {
    "colab": {
      "provenance": []
    },
    "kernelspec": {
      "name": "python3",
      "display_name": "Python 3"
    },
    "language_info": {
      "name": "python"
    }
  },
  "cells": [
    {
      "cell_type": "markdown",
      "source": [
        "# Python Basics"
      ],
      "metadata": {
        "id": "iMfO5EF7_RaT"
      }
    },
    {
      "cell_type": "markdown",
      "source": [
        "## Theoretical Questions"
      ],
      "metadata": {
        "id": "0IHfoX6-A95Q"
      }
    },
    {
      "cell_type": "markdown",
      "source": [
        "1. What is Python, and why is it popular?\n",
        "   - Python is a high-level, interpreted programming language known for its readability and simplicity.\n",
        "   \n",
        "   - It's popular because:\n",
        "\n",
        "      - Easy syntax (like plain English)\n",
        "\n",
        "      - Vast libraries and frameworks\n",
        "\n",
        "      - Large community and support\n",
        "\n",
        "      - Versatile (web dev, data science, automation, etc.)"
      ],
      "metadata": {
        "id": "zcQdOAWk_Wt2"
      }
    },
    {
      "cell_type": "markdown",
      "source": [
        "2. What is an interpreter in Python?\n",
        "  - An interpreter is a program that reads and executes Python code line by line. It translates high-level Python code into machine code during runtime."
      ],
      "metadata": {
        "id": "rn0jJCR-AL0k"
      }
    },
    {
      "cell_type": "markdown",
      "source": [
        "3. What are pre-defined keywords in Python?\n",
        "  - Pre-defined Keywords are reserved words in Python that have special meaning. Examples: if, for, True, None, class, etc. We cannot use them for variable names."
      ],
      "metadata": {
        "id": "SD1VuwHvAdxm"
      }
    },
    {
      "cell_type": "markdown",
      "source": [
        "4. Can keywords be used as variable names?\n",
        "  - No. Keywords are reserved and cannot be used as variable names, otherwise Python will throw a syntax error."
      ],
      "metadata": {
        "id": "zEWwFIlED6Oi"
      }
    },
    {
      "cell_type": "markdown",
      "source": [
        "5. What is mutability in Python?\n",
        "  - Mutability refers to whether an object’s value can change after it is created.\n",
        "\n",
        "      - Mutable: Can be changed (e.g., lists, dictionaries)\n",
        "\n",
        "      - Immutable: Cannot be changed (e.g., strings, tuples)"
      ],
      "metadata": {
        "id": "eov9sYRGEEiL"
      }
    },
    {
      "cell_type": "markdown",
      "source": [
        "6.  Why are lists mutable, but tuples are immutable?\n",
        "  - Lists are designed to be dynamic and allow modifications like adding, removing, or changing items.\n",
        "\n",
        "  - Tuples are meant to be fixed collections that don't change, ensuring data integrity and allowing them to be used as dictionary keys."
      ],
      "metadata": {
        "id": "_gWx4GkSEOiw"
      }
    },
    {
      "cell_type": "markdown",
      "source": [
        "7. What is the difference between “==” and “is” operators in Python?\n",
        "  - '==' checks if values are equal.\n",
        "\n",
        "  - 'is' checks if both variables refer to the same object in memory."
      ],
      "metadata": {
        "id": "QWSEIdJBEaYT"
      }
    },
    {
      "cell_type": "markdown",
      "source": [
        "8. What are logical operators in Python?\n",
        "  - Logical operators are used to combine boolean expressions:\n",
        "\n",
        "     - and: True if both conditions are True\n",
        "\n",
        "     - or: True if at least one is True\n",
        "\n",
        "     - not: Reverses the boolean value"
      ],
      "metadata": {
        "id": "rK3fiEtsEpHx"
      }
    },
    {
      "cell_type": "markdown",
      "source": [
        "9. What is type casting in Python?\n",
        "  - Type casting is converting a variable from one type to another (e.g., int to str, str to float)."
      ],
      "metadata": {
        "id": "y25v9J1XE6c1"
      }
    },
    {
      "cell_type": "markdown",
      "source": [
        "10. What is the difference between implicit and explicit type casting?\n",
        "  - Implicit casting: Python automatically converts types (e.g., int to float)\n",
        "\n",
        "  - Explicit casting: You manually convert using functions like int(), float(), str()"
      ],
      "metadata": {
        "id": "s19QEQFYE6zg"
      }
    },
    {
      "cell_type": "markdown",
      "source": [
        "11. What is the purpose of conditional statements in Python?\n",
        "  - Conditional statements (like if, elif, else) are used to run code only when certain conditions are met."
      ],
      "metadata": {
        "id": "MPNnQfe7E7AT"
      }
    },
    {
      "cell_type": "markdown",
      "source": [
        "12. How does the elif statement work?\n",
        "  - elif (short for \"else if\") lets us check multiple conditions after an initial if."
      ],
      "metadata": {
        "id": "sHszjjzUE7NS"
      }
    },
    {
      "cell_type": "markdown",
      "source": [
        "13. What is the difference between for and while loops?\n",
        "  - for loop: Iterates over a sequence (like a list or range)\n",
        "\n",
        "  - while loop: Runs as long as a condition is True"
      ],
      "metadata": {
        "id": "ziHh0RLCE7Xv"
      }
    },
    {
      "cell_type": "markdown",
      "source": [
        "14. Describe a scenario where a while loop is more suitable than a for loop.\n",
        "  - A scenario where a while loop is more suitable than a for loop is when you don’t know in advance how many times you need to loop."
      ],
      "metadata": {
        "id": "IkA3TH2XE7hm"
      }
    },
    {
      "cell_type": "markdown",
      "source": [
        "## Practical Questions"
      ],
      "metadata": {
        "id": "Xmqw4xhdBBnS"
      }
    },
    {
      "cell_type": "markdown",
      "source": [
        "1. Write a Python program to print \"Hello, World!\""
      ],
      "metadata": {
        "id": "DSdwdJQ2F6bX"
      }
    },
    {
      "cell_type": "code",
      "execution_count": null,
      "metadata": {
        "colab": {
          "base_uri": "https://localhost:8080/"
        },
        "id": "08-OZ7d0-ej1",
        "outputId": "11df3b65-de7a-4323-9e0c-cb297bf7d7bc"
      },
      "outputs": [
        {
          "output_type": "stream",
          "name": "stdout",
          "text": [
            "Hello, World!\n"
          ]
        }
      ],
      "source": [
        "print(\"Hello, World!\")"
      ]
    },
    {
      "cell_type": "markdown",
      "source": [
        "2. Write a Python program that displays your name and age."
      ],
      "metadata": {
        "id": "klC6Igs2GF_K"
      }
    },
    {
      "cell_type": "code",
      "source": [
        "name = \"Semal\"\n",
        "age = 21\n",
        "print(\"Name:\", name)\n",
        "print(\"Age:\", age)"
      ],
      "metadata": {
        "colab": {
          "base_uri": "https://localhost:8080/"
        },
        "id": "XH4MlDWLGKN-",
        "outputId": "9dba73d0-65c4-4f68-e2d8-73897f0b9759"
      },
      "execution_count": null,
      "outputs": [
        {
          "output_type": "stream",
          "name": "stdout",
          "text": [
            "Name: Semal\n",
            "Age: 21\n"
          ]
        }
      ]
    },
    {
      "cell_type": "markdown",
      "source": [
        "3. Write code to print all the pre-defined keywords in Python using the keyword library."
      ],
      "metadata": {
        "id": "Hvsz9-OmHzeU"
      }
    },
    {
      "cell_type": "code",
      "source": [
        "import keyword\n",
        "print(keyword.kwlist)"
      ],
      "metadata": {
        "colab": {
          "base_uri": "https://localhost:8080/"
        },
        "id": "2Uq7y63kH4aw",
        "outputId": "fab6b590-758c-4c80-c279-849921f2556f"
      },
      "execution_count": null,
      "outputs": [
        {
          "output_type": "stream",
          "name": "stdout",
          "text": [
            "['False', 'None', 'True', 'and', 'as', 'assert', 'async', 'await', 'break', 'class', 'continue', 'def', 'del', 'elif', 'else', 'except', 'finally', 'for', 'from', 'global', 'if', 'import', 'in', 'is', 'lambda', 'nonlocal', 'not', 'or', 'pass', 'raise', 'return', 'try', 'while', 'with', 'yield']\n"
          ]
        }
      ]
    },
    {
      "cell_type": "markdown",
      "source": [
        "4. Write a program that checks if a given word is a Python keyword."
      ],
      "metadata": {
        "id": "L3dFo4dWH5E8"
      }
    },
    {
      "cell_type": "code",
      "source": [
        "import keyword\n",
        "\n",
        "word = input(\"Enter a word: \")\n",
        "if keyword.iskeyword(word):\n",
        "    print(f\"{word} is a Python keyword.\")\n",
        "else:\n",
        "    print(f\"{word} is not a Python keyword.\")"
      ],
      "metadata": {
        "colab": {
          "base_uri": "https://localhost:8080/"
        },
        "id": "iTe8hcK7H5WF",
        "outputId": "297314a1-7fee-4a9e-9125-409ca258e22a"
      },
      "execution_count": null,
      "outputs": [
        {
          "output_type": "stream",
          "name": "stdout",
          "text": [
            "Enter a word: finally\n",
            "finally is a Python keyword.\n"
          ]
        }
      ]
    },
    {
      "cell_type": "markdown",
      "source": [
        "5. Create a list and tuple in Python, and demonstrate how attempting to change an element works differently\n",
        "for each."
      ],
      "metadata": {
        "id": "SSQKd9nOH5jX"
      }
    },
    {
      "cell_type": "code",
      "source": [
        "my_list = [10, 20, 30]\n",
        "print(\"Original list:\", my_list)\n",
        "\n",
        "my_list[1] = 99\n",
        "print(\"Modified list:\", my_list)\n",
        "\n",
        "my_tuple = (10, 20, 30)\n",
        "print(\"Original tuple:\", my_tuple)\n",
        "\n",
        "try:\n",
        "    my_tuple[1] = 99\n",
        "except TypeError as e:\n",
        "    print(\"Error when trying to modify tuple:\", e)"
      ],
      "metadata": {
        "colab": {
          "base_uri": "https://localhost:8080/"
        },
        "id": "AnWT6hhwH5wk",
        "outputId": "3572c3ca-76a9-4e46-f0e6-669c395d9dfd"
      },
      "execution_count": null,
      "outputs": [
        {
          "output_type": "stream",
          "name": "stdout",
          "text": [
            "Original list: [10, 20, 30]\n",
            "Modified list: [10, 99, 30]\n",
            "Original tuple: (10, 20, 30)\n",
            "Error when trying to modify tuple: 'tuple' object does not support item assignment\n"
          ]
        }
      ]
    },
    {
      "cell_type": "markdown",
      "source": [
        "6. Write a function to demonstrate the behavior of mutable and immutable arguments."
      ],
      "metadata": {
        "id": "5cFRVk6mH585"
      }
    },
    {
      "cell_type": "code",
      "source": [
        "def modify_data(a_list, a_number):\n",
        "    a_list.append(4)\n",
        "    a_number += 1\n",
        "    print(\"Inside function:\", a_list, a_number)\n",
        "\n",
        "lst = [1, 2, 3]\n",
        "num = 10\n",
        "\n",
        "modify_data(lst, num)\n",
        "print(\"Outside function:\", lst, num)"
      ],
      "metadata": {
        "colab": {
          "base_uri": "https://localhost:8080/"
        },
        "id": "qvCXtLapH6PP",
        "outputId": "6b3af0f6-2e0e-4491-9272-45b6d9328efc"
      },
      "execution_count": null,
      "outputs": [
        {
          "output_type": "stream",
          "name": "stdout",
          "text": [
            "Inside function: [1, 2, 3, 4] 11\n",
            "Outside function: [1, 2, 3, 4] 10\n"
          ]
        }
      ]
    },
    {
      "cell_type": "markdown",
      "source": [
        "7. Write a program that performs basic arithmetic operations on two user-input numbers."
      ],
      "metadata": {
        "id": "OCg3H7vMH6eH"
      }
    },
    {
      "cell_type": "code",
      "source": [
        "a = float(input(\"Enter first number: \"))\n",
        "b = float(input(\"Enter second number: \"))\n",
        "\n",
        "print(\"Addition:\", a + b)\n",
        "print(\"Subtraction:\", a - b)\n",
        "print(\"Multiplication:\", a * b)\n",
        "print(\"Division:\", a / b)"
      ],
      "metadata": {
        "id": "rhgfXotZH75o",
        "colab": {
          "base_uri": "https://localhost:8080/"
        },
        "outputId": "1364aecb-a57c-467b-a8de-7b6f12f1ddde"
      },
      "execution_count": 3,
      "outputs": [
        {
          "output_type": "stream",
          "name": "stdout",
          "text": [
            "Enter first number: 475\n",
            "Enter second number: 528\n",
            "Addition: 1003.0\n",
            "Subtraction: -53.0\n",
            "Multiplication: 250800.0\n",
            "Division: 0.8996212121212122\n"
          ]
        }
      ]
    },
    {
      "cell_type": "markdown",
      "source": [
        "8. Write a program to demonstrate the use of logical operators."
      ],
      "metadata": {
        "id": "iJEAhOkZH6rv"
      }
    },
    {
      "cell_type": "code",
      "source": [
        "x = 10\n",
        "y = 5\n",
        "print(x > 5 and y < 10)\n",
        "print(x > 15 or y < 10)\n",
        "print(not(x > 5))"
      ],
      "metadata": {
        "id": "GFfkayGMH80M",
        "colab": {
          "base_uri": "https://localhost:8080/"
        },
        "outputId": "04a42807-167e-438f-ad0c-2776f3aa62f8"
      },
      "execution_count": 2,
      "outputs": [
        {
          "output_type": "stream",
          "name": "stdout",
          "text": [
            "True\n",
            "True\n",
            "False\n"
          ]
        }
      ]
    },
    {
      "cell_type": "markdown",
      "source": [
        "9.  Write a Python program to convert user input from string to integer, float, and boolean types."
      ],
      "metadata": {
        "id": "jN-zL4_bH9Km"
      }
    },
    {
      "cell_type": "code",
      "source": [
        "value = input(\"Enter a value: \")\n",
        "int_val = int(value)\n",
        "float_val = float(value)\n",
        "bool_val = bool(value)\n",
        "\n",
        "print(\"Integer:\", int_val)\n",
        "print(\"Float:\", float_val)\n",
        "print(\"Boolean:\", bool_val)"
      ],
      "metadata": {
        "id": "1RdYSaBXH9dn",
        "colab": {
          "base_uri": "https://localhost:8080/"
        },
        "outputId": "10ee29b1-a771-4dbf-e42e-13a03058094b"
      },
      "execution_count": 4,
      "outputs": [
        {
          "output_type": "stream",
          "name": "stdout",
          "text": [
            "Enter a value: 76\n",
            "Integer: 76\n",
            "Float: 76.0\n",
            "Boolean: True\n"
          ]
        }
      ]
    },
    {
      "cell_type": "markdown",
      "source": [
        "10. Write code to demonstrate type casting with list elements."
      ],
      "metadata": {
        "id": "iYoreh4qH9qg"
      }
    },
    {
      "cell_type": "code",
      "source": [
        "str_numbers = [\"1\", \"2\", \"3\"]\n",
        "int_numbers = list(map(int, str_numbers))\n",
        "print(\"Converted list:\", int_numbers)"
      ],
      "metadata": {
        "id": "SMGUQG3-H-Bj",
        "colab": {
          "base_uri": "https://localhost:8080/"
        },
        "outputId": "7b8b639a-1d7a-4248-a693-c57a32b58cbf"
      },
      "execution_count": 5,
      "outputs": [
        {
          "output_type": "stream",
          "name": "stdout",
          "text": [
            "Converted list: [1, 2, 3]\n"
          ]
        }
      ]
    },
    {
      "cell_type": "markdown",
      "source": [
        "11. Write a program that checks if a number is positive, negative, or zero."
      ],
      "metadata": {
        "id": "hOaVNR3TH-Sv"
      }
    },
    {
      "cell_type": "code",
      "source": [
        "num = float(input(\"Enter a number: \"))\n",
        "if num > 0:\n",
        "    print(\"Positive\")\n",
        "elif num < 0:\n",
        "    print(\"Negative\")\n",
        "else:\n",
        "    print(\"Zero\")"
      ],
      "metadata": {
        "id": "Jm-y-F2NH-hU",
        "colab": {
          "base_uri": "https://localhost:8080/"
        },
        "outputId": "639700bd-4c62-44ff-82e4-86f8a6e491cd"
      },
      "execution_count": 6,
      "outputs": [
        {
          "output_type": "stream",
          "name": "stdout",
          "text": [
            "Enter a number: -95\n",
            "Negative\n"
          ]
        }
      ]
    },
    {
      "cell_type": "markdown",
      "source": [
        "12. Write a for loop to print numbers from 1 to 10."
      ],
      "metadata": {
        "id": "_a67es5GqUHn"
      }
    },
    {
      "cell_type": "code",
      "source": [
        "for i in range(1, 11):\n",
        "    print(i)"
      ],
      "metadata": {
        "colab": {
          "base_uri": "https://localhost:8080/"
        },
        "id": "nB9hQX1tqUWv",
        "outputId": "b5bc5492-2ee4-4e85-bba5-b16ee6f7ea7a"
      },
      "execution_count": 7,
      "outputs": [
        {
          "output_type": "stream",
          "name": "stdout",
          "text": [
            "1\n",
            "2\n",
            "3\n",
            "4\n",
            "5\n",
            "6\n",
            "7\n",
            "8\n",
            "9\n",
            "10\n"
          ]
        }
      ]
    },
    {
      "cell_type": "markdown",
      "source": [
        "13. Write a Python program to find the sum of all even numbers between 1 and 50."
      ],
      "metadata": {
        "id": "lqfxGCU6qUqL"
      }
    },
    {
      "cell_type": "code",
      "source": [
        "total = 0\n",
        "for i in range(2, 51, 2):\n",
        "    total += i\n",
        "print(\"Sum of even numbers:\", total)"
      ],
      "metadata": {
        "colab": {
          "base_uri": "https://localhost:8080/"
        },
        "id": "vrg7eclpqU7V",
        "outputId": "d8f553e6-0e9f-42ac-d81a-f789f8c52142"
      },
      "execution_count": 8,
      "outputs": [
        {
          "output_type": "stream",
          "name": "stdout",
          "text": [
            "Sum of even numbers: 650\n"
          ]
        }
      ]
    },
    {
      "cell_type": "markdown",
      "source": [
        "14. Write a program to reverse a string using a while loop."
      ],
      "metadata": {
        "id": "JvUkMjGoqVJM"
      }
    },
    {
      "cell_type": "code",
      "source": [
        "text = input(\"Enter a string: \")\n",
        "reversed_text = \"\"\n",
        "i = len(text) - 1\n",
        "\n",
        "while i >= 0:\n",
        "    reversed_text += text[i]\n",
        "    i -= 1\n",
        "\n",
        "print(\"Reversed string:\", reversed_text)"
      ],
      "metadata": {
        "colab": {
          "base_uri": "https://localhost:8080/"
        },
        "id": "gymC4tOSqVcr",
        "outputId": "a0ef55d2-bee4-433e-bd39-48d9bc487c0b"
      },
      "execution_count": 9,
      "outputs": [
        {
          "output_type": "stream",
          "name": "stdout",
          "text": [
            "Enter a string: hello world\n",
            "Reversed string: dlrow olleh\n"
          ]
        }
      ]
    },
    {
      "cell_type": "markdown",
      "source": [
        "15. Write a Python program to calculate the factorial of a number provided by the user using a while loop."
      ],
      "metadata": {
        "id": "UheL0L4OqWG7"
      }
    },
    {
      "cell_type": "code",
      "source": [
        "num = int(input(\"Enter a number: \"))\n",
        "factorial = 1\n",
        "i = 1\n",
        "\n",
        "while i <= num:\n",
        "    factorial *= i\n",
        "    i += 1\n",
        "\n",
        "print(\"Factorial:\", factorial)"
      ],
      "metadata": {
        "colab": {
          "base_uri": "https://localhost:8080/"
        },
        "id": "xLcEgnUNqWVz",
        "outputId": "461d7958-9f77-4f06-bea6-16877b0b6195"
      },
      "execution_count": 10,
      "outputs": [
        {
          "output_type": "stream",
          "name": "stdout",
          "text": [
            "Enter a number: 7\n",
            "Factorial: 5040\n"
          ]
        }
      ]
    }
  ]
}